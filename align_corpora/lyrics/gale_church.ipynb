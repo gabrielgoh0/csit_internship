{
 "cells": [
  {
   "cell_type": "code",
   "execution_count": 2,
   "metadata": {
    "ExecuteTime": {
     "end_time": "2020-06-01T05:00:23.246763Z",
     "start_time": "2020-06-01T04:59:53.786829Z"
    }
   },
   "outputs": [],
   "source": [
    "## Gale & Church Algorithm (Length-based)\n",
    "# https://www.nltk.org/api/nltk.translate.html#module-nltk.translate.gale_church\n",
    "\n",
    "import numpy as np\n",
    "import jieba\n",
    "import nltk\n",
    "import jieba\n",
    "import multiprocessing \n",
    "\n",
    "from nltk.translate import gale_church"
   ]
  },
  {
   "cell_type": "code",
   "execution_count": 3,
   "metadata": {
    "ExecuteTime": {
     "end_time": "2020-06-01T05:00:24.924435Z",
     "start_time": "2020-06-01T05:00:23.248409Z"
    }
   },
   "outputs": [
    {
     "name": "stderr",
     "output_type": "stream",
     "text": [
      "[nltk_data] Downloading package punkt to\n",
      "[nltk_data]     C:\\Users\\gabri\\AppData\\Roaming\\nltk_data...\n",
      "[nltk_data]   Package punkt is already up-to-date!\n",
      "[nltk_data] Downloading package stopwords to\n",
      "[nltk_data]     C:\\Users\\gabri\\AppData\\Roaming\\nltk_data...\n",
      "[nltk_data]   Package stopwords is already up-to-date!\n"
     ]
    }
   ],
   "source": [
    "nltk.download('punkt')\n",
    "nltk.download('stopwords')\n",
    "from nltk.corpus import stopwords"
   ]
  },
  {
   "cell_type": "code",
   "execution_count": 12,
   "metadata": {
    "ExecuteTime": {
     "end_time": "2020-06-01T06:16:03.102764Z",
     "start_time": "2020-06-01T06:16:02.893854Z"
    }
   },
   "outputs": [],
   "source": [
    "en_file = 'shinpakusuu_en.txt'\n",
    "zh_file = 'shinpakusuu_zh.txt'\n",
    "en_mess_file = 'shinpakusuu_en_messed.txt'\n",
    "en_reorder_file = 'shinpakusuu_en_reordered.txt'\n",
    "\n",
    "def read_len_f(x_file):\n",
    "    len_list = []\n",
    "    index_cursor = 0\n",
    "    len_sub_list = []\n",
    "    with open(x_file,'r', encoding='utf-8') as file:\n",
    "        for line in file:\n",
    "            if line == \"\\n\":\n",
    "                len_list.append(len_sub_list)\n",
    "                len_sub_list = []\n",
    "                index_cursor +=1\n",
    "            else:\n",
    "                len_sub_list.append(len(line.rstrip())) # characters\n",
    "                \n",
    "    if len_sub_list:\n",
    "        len_list.append(len_sub_list)\n",
    "    return len_list\n",
    "\n",
    "def tokenize_length(text,lang='en'):\n",
    "    if lang=='zh':\n",
    "        return len(jieba.lcut(text.rstrip()))\n",
    "    else:\n",
    "        return len(text.rstrip().split())\n",
    "\n",
    "def read_word_count_f(x_file,lang='en'):\n",
    "    len_list = []\n",
    "    len_sub_list = []\n",
    "    with open(x_file,'r', encoding='utf-8') as file:\n",
    "        for line in file:\n",
    "            if line == \"\\n\":\n",
    "                len_list.append(len_sub_list)\n",
    "                len_sub_list = []\n",
    "            else:\n",
    "                len_sub_list.append(tokenize_length(line,lang)) # characters\n",
    "                \n",
    "    if len_sub_list:\n",
    "        len_list.append(len_sub_list)\n",
    "    return len_list\n",
    "    \n",
    "en_list = read_len_f(en_file)\n",
    "en_w_list = read_word_count_f(en_file)\n",
    "zh_list = read_len_f(zh_file)\n",
    "zh_w_list = read_word_count_f(zh_file,'zh')\n",
    "en_mess_list = read_len_f(en_mess_file)\n",
    "en_mess_w_list = read_word_count_f(en_mess_file)\n",
    "en_reorder_list = read_len_f(en_reorder_file)\n",
    "en_reorder_w_list = read_word_count_f(en_reorder_file)"
   ]
  },
  {
   "cell_type": "code",
   "execution_count": 6,
   "metadata": {
    "ExecuteTime": {
     "end_time": "2020-05-28T07:19:59.948618Z",
     "start_time": "2020-05-28T07:19:59.936648Z"
    }
   },
   "outputs": [
    {
     "data": {
      "text/plain": [
       "[[6, 13, 9, 11],\n",
       " [12, 9, 10, 7],\n",
       " [5, 7, 8, 7],\n",
       " [6, 6, 8, 9],\n",
       " [12, 9, 9, 7],\n",
       " [6, 9, 9, 5],\n",
       " [6, 7, 9, 8],\n",
       " [5, 7, 8, 5]]"
      ]
     },
     "execution_count": 6,
     "metadata": {},
     "output_type": "execute_result"
    }
   ],
   "source": [
    "en_w_list"
   ]
  },
  {
   "cell_type": "code",
   "execution_count": 7,
   "metadata": {
    "ExecuteTime": {
     "end_time": "2020-05-28T07:19:59.958624Z",
     "start_time": "2020-05-28T07:19:59.952641Z"
    }
   },
   "outputs": [
    {
     "data": {
      "text/plain": [
       "[[9, 15, 11, 9],\n",
       " [11, 9, 12, 6],\n",
       " [7, 7, 5, 8],\n",
       " [8, 12, 11, 8],\n",
       " [11, 9, 12, 6],\n",
       " [6, 5, 5, 9],\n",
       " [6, 11, 9, 8],\n",
       " [7, 7, 5, 4]]"
      ]
     },
     "execution_count": 7,
     "metadata": {},
     "output_type": "execute_result"
    }
   ],
   "source": [
    "zh_w_list"
   ]
  },
  {
   "cell_type": "code",
   "execution_count": 8,
   "metadata": {
    "ExecuteTime": {
     "end_time": "2020-05-28T07:19:59.986656Z",
     "start_time": "2020-05-28T07:19:59.960583Z"
    }
   },
   "outputs": [
    {
     "data": {
      "text/plain": [
       "[[9, 11, 13, 6],\n",
       " [7, 9, 12, 10],\n",
       " [5, 8, 7, 7],\n",
       " [6, 6, 8, 9],\n",
       " [12, 9, 9, 7],\n",
       " [6, 9, 9, 5],\n",
       " [6, 7, 9, 8],\n",
       " [5, 7, 8, 5]]"
      ]
     },
     "execution_count": 8,
     "metadata": {},
     "output_type": "execute_result"
    }
   ],
   "source": [
    "en_mess_w_list"
   ]
  },
  {
   "cell_type": "code",
   "execution_count": 39,
   "metadata": {
    "ExecuteTime": {
     "end_time": "2020-05-28T07:48:50.204374Z",
     "start_time": "2020-05-28T07:48:50.199421Z"
    }
   },
   "outputs": [
    {
     "data": {
      "text/plain": [
       "[[19, 11, 9],\n",
       " [12, 9, 10],\n",
       " [12, 15],\n",
       " [6, 6, 15, 2],\n",
       " [12, 9, 9, 7],\n",
       " [9, 6, 9, 5],\n",
       " [6, 7, 9, 8],\n",
       " [5, 7, 5, 8]]"
      ]
     },
     "execution_count": 39,
     "metadata": {},
     "output_type": "execute_result"
    }
   ],
   "source": [
    "en_reorder_w_list"
   ]
  },
  {
   "cell_type": "code",
   "execution_count": 17,
   "metadata": {
    "ExecuteTime": {
     "end_time": "2020-06-01T06:16:50.179984Z",
     "start_time": "2020-06-01T06:16:50.167054Z"
    }
   },
   "outputs": [
    {
     "data": {
      "text/plain": [
       "[[(0, 0), (1, 0), (2, 1), (3, 2)],\n",
       " [(0, 0), (1, 0), (2, 1), (3, 2)],\n",
       " [(0, 0), (1, 0), (2, 1), (3, 1)],\n",
       " [(0, 0), (1, 1), (2, 2), (3, 3)],\n",
       " [(0, 0), (1, 1), (2, 2), (3, 3)],\n",
       " [(0, 0), (1, 1), (2, 2), (3, 3)],\n",
       " [(0, 0), (1, 1), (2, 2), (3, 3)],\n",
       " [(0, 0), (1, 1), (2, 2), (3, 3)]]"
      ]
     },
     "execution_count": 17,
     "metadata": {},
     "output_type": "execute_result"
    }
   ],
   "source": [
    "gale_church.align_texts(zh_list, en_reorder_w_list)"
   ]
  },
  {
   "cell_type": "code",
   "execution_count": 13,
   "metadata": {
    "ExecuteTime": {
     "end_time": "2020-06-01T06:16:08.886973Z",
     "start_time": "2020-06-01T06:16:08.873005Z"
    }
   },
   "outputs": [
    {
     "data": {
      "text/plain": [
       "[[(0, 0), (0, 1), (1, 2), (2, 3)],\n",
       " [(0, 0), (0, 1), (1, 2), (2, 3)],\n",
       " [(0, 0), (0, 1), (1, 2), (1, 3)],\n",
       " [(0, 0), (1, 1), (2, 2), (3, 3)],\n",
       " [(0, 0), (1, 1), (2, 2), (3, 3)],\n",
       " [(0, 0), (1, 1), (2, 2), (3, 3)],\n",
       " [(0, 0), (1, 1), (2, 2), (3, 3)],\n",
       " [(0, 0), (1, 1), (2, 2), (3, 3)]]"
      ]
     },
     "execution_count": 13,
     "metadata": {},
     "output_type": "execute_result"
    }
   ],
   "source": [
    "gale_church.align_texts(en_reorder_w_list, zh_list)"
   ]
  },
  {
   "cell_type": "code",
   "execution_count": 14,
   "metadata": {
    "ExecuteTime": {
     "end_time": "2020-06-01T06:16:19.138851Z",
     "start_time": "2020-06-01T06:16:19.127880Z"
    }
   },
   "outputs": [
    {
     "data": {
      "text/plain": [
       "[[(0, 0), (0, 1), (1, 2), (2, 3)],\n",
       " [(0, 0), (0, 1), (1, 2), (2, 3)],\n",
       " [(0, 0), (0, 1), (1, 2), (1, 3)],\n",
       " [(0, 0), (1, 1), (2, 2), (3, 3)],\n",
       " [(0, 0), (1, 1), (2, 2), (3, 3)],\n",
       " [(0, 0), (1, 1), (2, 2), (3, 3)],\n",
       " [(0, 0), (1, 1), (2, 2), (3, 3)],\n",
       " [(0, 0), (1, 1), (2, 2), (3, 3)]]"
      ]
     },
     "execution_count": 14,
     "metadata": {},
     "output_type": "execute_result"
    }
   ],
   "source": [
    "gale_church.align_texts(en_reorder_list, zh_list)"
   ]
  },
  {
   "cell_type": "code",
   "execution_count": 15,
   "metadata": {
    "ExecuteTime": {
     "end_time": "2020-06-01T06:16:23.440279Z",
     "start_time": "2020-06-01T06:16:23.429306Z"
    }
   },
   "outputs": [
    {
     "data": {
      "text/plain": [
       "[[(0, 0), (0, 1), (1, 2), (2, 3)],\n",
       " [(0, 0), (1, 1), (2, 2), (2, 3)],\n",
       " [(0, 0), (0, 1), (1, 2), (1, 3)],\n",
       " [(0, 0), (1, 1), (2, 2), (2, 3), (3, 2), (3, 3)],\n",
       " [(0, 0), (1, 1), (2, 2), (3, 3)],\n",
       " [(0, 0), (1, 1), (2, 2), (3, 3)],\n",
       " [(0, 0), (1, 1), (2, 2), (3, 3)],\n",
       " [(0, 0), (1, 1), (2, 2), (3, 3)]]"
      ]
     },
     "execution_count": 15,
     "metadata": {},
     "output_type": "execute_result"
    }
   ],
   "source": [
    "gale_church.align_texts(en_reorder_list, en_list)"
   ]
  },
  {
   "cell_type": "code",
   "execution_count": 16,
   "metadata": {
    "ExecuteTime": {
     "end_time": "2020-06-01T06:16:26.359303Z",
     "start_time": "2020-06-01T06:16:26.349327Z"
    }
   },
   "outputs": [
    {
     "data": {
      "text/plain": [
       "[[(0, 0), (0, 1), (1, 2), (2, 3)],\n",
       " [(0, 0), (1, 1), (2, 2), (2, 3)],\n",
       " [(0, 0), (0, 1), (1, 2), (1, 3)],\n",
       " [(0, 0), (1, 1), (2, 2), (3, 3)],\n",
       " [(0, 0), (1, 1), (2, 2), (3, 3)],\n",
       " [(0, 0), (1, 1), (2, 2), (3, 3)],\n",
       " [(0, 0), (1, 1), (2, 2), (3, 3)],\n",
       " [(0, 0), (1, 1), (2, 2), (3, 3)]]"
      ]
     },
     "execution_count": 16,
     "metadata": {},
     "output_type": "execute_result"
    }
   ],
   "source": [
    "gale_church.align_texts(en_reorder_w_list, en_list)"
   ]
  },
  {
   "cell_type": "code",
   "execution_count": 33,
   "metadata": {
    "ExecuteTime": {
     "end_time": "2020-05-28T07:43:58.285738Z",
     "start_time": "2020-05-28T07:43:58.280752Z"
    }
   },
   "outputs": [
    {
     "name": "stdout",
     "output_type": "stream",
     "text": [
      "[870, 490, 510]\n",
      "[250, 610, 510, 490]\n"
     ]
    }
   ],
   "source": [
    "print([x*10 for x in en_reorder_list[0]])\n",
    "print([x*10 for x in en_list[0]])"
   ]
  },
  {
   "cell_type": "code",
   "execution_count": 34,
   "metadata": {
    "ExecuteTime": {
     "end_time": "2020-05-28T07:44:00.140758Z",
     "start_time": "2020-05-28T07:44:00.134773Z"
    }
   },
   "outputs": [
    {
     "data": {
      "text/plain": [
       "[(0, 0), (0, 1), (1, 2), (2, 3)]"
      ]
     },
     "execution_count": 34,
     "metadata": {},
     "output_type": "execute_result"
    }
   ],
   "source": [
    "gale_church.align_blocks([x*10 for x in en_reorder_list[0]], [x*10 for x in en_list[0]])"
   ]
  },
  {
   "cell_type": "code",
   "execution_count": 55,
   "metadata": {
    "ExecuteTime": {
     "end_time": "2020-05-22T03:20:46.679908Z",
     "start_time": "2020-05-22T03:20:46.671965Z"
    }
   },
   "outputs": [
    {
     "data": {
      "text/plain": [
       "[[4, 1, 3, 4],\n",
       " [3, 5, 2, 2],\n",
       " [2, 2, 4, 3],\n",
       " [3, 1, 2, 1],\n",
       " [3, 5, 2, 3],\n",
       " [2, 3, 4, 3],\n",
       " [3, 3, 2, 4],\n",
       " [3, 2, 4, 4]]"
      ]
     },
     "execution_count": 55,
     "metadata": {},
     "output_type": "execute_result"
    }
   ],
   "source": [
    "log_list = []\n",
    "log_sub_list = []\n",
    "\n",
    "for ii in range(len(en_list)):\n",
    "    for i in range(len(en_list[ii])):\n",
    "        log_p = int(gale_church.align_log_prob(i, i, en_list[ii], zh_list[ii], (1,1), gale_church.LanguageIndependent))\n",
    "        log_sub_list.append(log_p)\n",
    "    log_list.append(log_sub_list)\n",
    "    log_sub_list = []\n",
    "\n",
    "# gale_church.align_log_prob(1, 1, en_list[0], zh_list[0], (1,1), gale_church.LanguageIndependent)\n",
    "# first two offset values (where is the sentence in the paragraph)\n",
    "# takes one block, not full text\n",
    "# (1,1) alignment type 1 is to 1 sentence\n",
    "\n",
    "log_list\n",
    "\n",
    "#result is -log, if is 0 is Prob =1\n",
    "#closer to 0 wins"
   ]
  },
  {
   "cell_type": "code",
   "execution_count": 58,
   "metadata": {
    "ExecuteTime": {
     "end_time": "2020-05-22T03:21:11.443890Z",
     "start_time": "2020-05-22T03:21:11.435876Z"
    }
   },
   "outputs": [
    {
     "data": {
      "text/plain": [
       "[[3, 5, 2, 3],\n",
       " [2, 2, 1, 3],\n",
       " [2, 3, 1, 5],\n",
       " [2, 3, 9, 4],\n",
       " [2, 2, 1, 4],\n",
       " [6, 1, 6, 6],\n",
       " [1, 1, 6, 1],\n",
       " [2, 3, 1, 5]]"
      ]
     },
     "execution_count": 58,
     "metadata": {},
     "output_type": "execute_result"
    }
   ],
   "source": [
    "log_list = []\n",
    "log_sub_list = []\n",
    "\n",
    "for ii in range(len(en_w_list)):\n",
    "    for i in range(len(en_w_list[ii])):\n",
    "        log_p = int(gale_church.align_log_prob(i, i, en_w_list[ii], zh_w_list[ii], (1,1), gale_church.LanguageIndependent)*10)\n",
    "        log_sub_list.append(log_p)\n",
    "    log_list.append(log_sub_list)\n",
    "    log_sub_list = []\n",
    "\n",
    "# gale_church.align_log_prob(1, 1, en_list[0], zh_list[0], (1,1), gale_church.LanguageIndependent)\n",
    "# first two offset values (where is the sentence in the paragraph)\n",
    "# takes one block, not full text\n",
    "# (1,1) alignment type 1 is to 1 sentence\n",
    "\n",
    "log_list\n",
    "\n",
    "#result is -log, if is 0 is Prob =1\n",
    "#closer to 0 wins"
   ]
  },
  {
   "cell_type": "code",
   "execution_count": 17,
   "metadata": {
    "ExecuteTime": {
     "end_time": "2020-05-22T02:05:04.323362Z",
     "start_time": "2020-05-22T02:05:04.318411Z"
    }
   },
   "outputs": [
    {
     "name": "stdout",
     "output_type": "stream",
     "text": [
      "My heart – when it stops,\n",
      "I’m sure that this world – I think I’ll have fully enjoyed it\n",
      "As for what I’ll leave behind, pretty much nothing;\n",
      "At your side, I think I just want to keep smiling\n",
      "\n",
      "Through the pounding in my chest, I still want to protect you\n",
      "As a reason to live, that’s fine by me\n",
      "One more, one more – I count the same tears,\n",
      "And once again, we know each other\n",
      "\n",
      "My throbbing pulse conveys them,\n",
      "The recurring sounds and my running thoughts\n",
      "Let us promise to be apart no longer,\n",
      "So that you should never be lonely\n",
      "\n",
      "My heart – in one minute,\n",
      "Seventy times, it shouts “I live”\n",
      "But when I’m with you, it runs fast,\n",
      "And one hundred ten times, it shouts “I love”\n",
      "\n",
      "Through the pounding in my chest, I still want to protect you\n",
      "As a reason to live, that’s fine by me\n",
      "Once more, once more – the same heart repeats,\n",
      "And once again, we know each other\n",
      "\n",
      "The meetings between you and I:\n",
      "If there had to be some reason for them,\n",
      "While I don’t know if it would be fate,\n",
      "Their sheer happiness is unchanging\n",
      "\n",
      "Until that someday when I’m ended,\n",
      "How many more “loves” can I utter?\n",
      "To your being here with me, I offer gratitude,\n",
      "And for simply being alive, I thank you.\n",
      "\n",
      "My throbbing pulse conveys them,\n",
      "The recurring sounds and my running thoughts\n",
      "Let us promise to keep loving each other,\n",
      "Until our heartbeats should stop.\n"
     ]
    }
   ],
   "source": [
    "with open(en_file,'r', encoding='utf-8') as file:\n",
    "    print(file.read())"
   ]
  },
  {
   "cell_type": "code",
   "execution_count": 19,
   "metadata": {
    "ExecuteTime": {
     "end_time": "2020-05-22T02:05:18.215206Z",
     "start_time": "2020-05-22T02:05:18.210219Z"
    }
   },
   "outputs": [
    {
     "name": "stdout",
     "output_type": "stream",
     "text": [
      "在我的心脏，停下的时候呢\n",
      "我一定是觉得已经，充分享受过这个世界才结束的吧\n",
      "彷佛没做完的事，几乎都没有般\n",
      "希望能在你身旁，一直笑着\n",
      "\n",
      "仍然想在这颗心跳动的时间内守护你\n",
      "只要以那件事为生存意义就好了\n",
      "「再一个、再一个」的数着相同的眼泪\n",
      "我们又再度了解了彼此\n",
      "\n",
      "巨大的跳动声传达来的\n",
      "重叠的声响与流泄的思念\n",
      "约定再也不要分开吧\n",
      "希望无论何时都不要让你寂寞\n",
      "\n",
      "我的心脏，在一分钟内呢\n",
      "会喊出70次的，「我正活着」\n",
      "但是和你在一起时，就会稍微加快脚步\n",
      "喊出110次的，「我爱你」\n",
      "\n",
      "仍然想在这颗心跳动的时间内守护你\n",
      "只要以那件事为生存意义就好了\n",
      "「再一次、再一次」的重迭相同的心意\n",
      "我们又再度了解了彼此\n",
      "\n",
      "如果我和你的相遇\n",
      "是有什么理由的话\n",
      "就算不知道是不是命运\n",
      "那份喜悦也是不会改变的喔\n",
      "\n",
      "直到某天你放弃我为止\n",
      "你还会说出多少次「喜欢」呢？\n",
      "去感谢能身在这里的这件事吧\n",
      "就为了活着这件事而感谢吧\n",
      "\n",
      "巨大的跳动声传达来的\n",
      "重叠的声响与流泄的思念\n",
      "约定一直相爱下去吧\n",
      "直到心跳停止为止\n"
     ]
    }
   ],
   "source": [
    "with open(zh_file,'r', encoding='utf-8') as file:\n",
    "    print(file.read())"
   ]
  },
  {
   "cell_type": "code",
   "execution_count": null,
   "metadata": {},
   "outputs": [],
   "source": []
  },
  {
   "cell_type": "code",
   "execution_count": null,
   "metadata": {},
   "outputs": [],
   "source": []
  }
 ],
 "metadata": {
  "kernelspec": {
   "display_name": "Python 3",
   "language": "python",
   "name": "python3"
  },
  "language_info": {
   "codemirror_mode": {
    "name": "ipython",
    "version": 3
   },
   "file_extension": ".py",
   "mimetype": "text/x-python",
   "name": "python",
   "nbconvert_exporter": "python",
   "pygments_lexer": "ipython3",
   "version": "3.7.6"
  },
  "notify_time": "5"
 },
 "nbformat": 4,
 "nbformat_minor": 4
}
