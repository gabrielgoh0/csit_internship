{
 "cells": [
  {
   "cell_type": "code",
   "execution_count": 1,
   "metadata": {
    "ExecuteTime": {
     "end_time": "2020-06-08T07:24:53.447146Z",
     "start_time": "2020-06-08T07:24:18.774083Z"
    }
   },
   "outputs": [
    {
     "name": "stderr",
     "output_type": "stream",
     "text": [
      "[nltk_data] Downloading package punkt to\n",
      "[nltk_data]     C:\\Users\\gabri\\AppData\\Roaming\\nltk_data...\n",
      "[nltk_data]   Package punkt is already up-to-date!\n",
      "[nltk_data] Downloading package stopwords to\n",
      "[nltk_data]     C:\\Users\\gabri\\AppData\\Roaming\\nltk_data...\n",
      "[nltk_data]   Package stopwords is already up-to-date!\n",
      "[nltk_data] Downloading package punkt to\n",
      "[nltk_data]     C:\\Users\\gabri\\AppData\\Roaming\\nltk_data...\n",
      "[nltk_data]   Package punkt is already up-to-date!\n",
      "[nltk_data] Downloading package stopwords to\n",
      "[nltk_data]     C:\\Users\\gabri\\AppData\\Roaming\\nltk_data...\n",
      "[nltk_data]   Package stopwords is already up-to-date!\n"
     ]
    }
   ],
   "source": [
    "## Gale & Church Algorithm (Length-based)\n",
    "# https://www.nltk.org/api/nltk.translate.html#module-nltk.translate.gale_church\n",
    "# https://www.aclweb.org/anthology/P94-1012.pdf\n",
    "\n",
    "import bucc_proc as bp\n",
    "import importlib\n",
    "importlib.reload(bp)\n",
    "from nltk.translate import gale_church"
   ]
  },
  {
   "cell_type": "code",
   "execution_count": 10,
   "metadata": {
    "ExecuteTime": {
     "end_time": "2020-06-05T10:47:52.707437Z",
     "start_time": "2020-06-05T10:47:52.701452Z"
    }
   },
   "outputs": [
    {
     "data": {
      "text/plain": [
       "['“',\n",
       " '下雨',\n",
       " '了',\n",
       " '！',\n",
       " '”',\n",
       " '小明',\n",
       " '大叫',\n",
       " '到',\n",
       " '，',\n",
       " '然后',\n",
       " '赶紧',\n",
       " '关',\n",
       " '好',\n",
       " '房间',\n",
       " '的',\n",
       " '窗口',\n",
       " '。']"
      ]
     },
     "execution_count": 10,
     "metadata": {},
     "output_type": "execute_result"
    }
   ],
   "source": [
    "len(\"我是你的爸爸！\")\n",
    "test = \"“下雨了！”小明大叫到，然后赶紧关好房间的窗口。\"\n",
    "bp.zh_proc(\"“下雨了！”小明大叫到，然后赶紧关好房间的窗口。\")\n",
    "bp.jieba.lcut(test)"
   ]
  },
  {
   "cell_type": "code",
   "execution_count": 11,
   "metadata": {
    "ExecuteTime": {
     "end_time": "2020-06-05T10:48:32.941882Z",
     "start_time": "2020-06-05T10:48:32.934901Z"
    }
   },
   "outputs": [
    {
     "data": {
      "text/plain": [
       "['``',\n",
       " 'It',\n",
       " \"'s\",\n",
       " 'raining',\n",
       " '!',\n",
       " \"''\",\n",
       " 'Tom',\n",
       " 'shouted',\n",
       " 'loudly',\n",
       " ',',\n",
       " 'then',\n",
       " 'rushed',\n",
       " 'to',\n",
       " 'close',\n",
       " 'tight',\n",
       " 'his',\n",
       " 'room',\n",
       " 'windows',\n",
       " '.']"
      ]
     },
     "execution_count": 11,
     "metadata": {},
     "output_type": "execute_result"
    }
   ],
   "source": [
    "len(\"I'm your dad!\")\n",
    "test = \"\\\"It's raining!\\\" Tom shouted loudly, then rushed to close tight his room windows.\"\n",
    "bp.en_proc(\"\\\"It's raining!\\\" Tom shouted loudly, then rushed to close tight his room windows.\")\n",
    "bp.word_tokenize(test)"
   ]
  },
  {
   "cell_type": "code",
   "execution_count": 10,
   "metadata": {
    "ExecuteTime": {
     "end_time": "2020-06-08T07:30:41.654919Z",
     "start_time": "2020-06-08T07:30:41.408661Z"
    }
   },
   "outputs": [
    {
     "name": "stdout",
     "output_type": "stream",
     "text": [
      "Merged file exists, reading...\n"
     ]
    },
    {
     "data": {
      "text/plain": [
       "<bound method DataFrame.count of              ID_zh         ID_en                             Sentence_zh  \\\n",
       "0     zh-000000033  en-000005983               1989年以前，全球经济包含大约8亿到10亿人口。   \n",
       "1     zh-000000231  en-000047360        今日全球面临的威胁是超民族的，因此也必须采取超民族的方式来应对。   \n",
       "2     zh-000000272  en-000027140                   欧盟移民政策的硬伤还有一个不太显著的方面。   \n",
       "3     zh-000000438  en-000065621           只有让民粹主义服务于自由主义改革，政府才能取得长久的利益。   \n",
       "4     zh-000000639  en-000005169       但社会民主派必须理解为何示威的发展会独立于现有的有组织中左翼政治。   \n",
       "...            ...           ...                                     ...   \n",
       "1848  zh-000094590  en-000013258         事件发生后当局在尚未进行调查的情况下就匆匆掩埋了出事列车残骸。   \n",
       "1849  zh-000094593  en-000061419             北方拥有丰富的自然资源，就连电力也是从北方输送到南方。   \n",
       "1850  zh-000094607  en-000039373                如果利率为3%，那么年税收额必须增加15亿美元。   \n",
       "1851  zh-000094611  en-000003807           五年前，叙利亚北部边陲城镇享受着土耳其高速经济增长的红利。   \n",
       "1852  zh-000094633  en-000083972  在过去的一个世纪中，我们的世界发生了翻天覆地的变化——技术是其中的重要原因。   \n",
       "\n",
       "                                            Sentence_en  \n",
       "0     Until 1989, the global market encompassed betw...  \n",
       "1     The threats facing the world today are suprana...  \n",
       "2     There is another, less obvious, reason why the...  \n",
       "3     Only if populism is put at the service of libe...  \n",
       "4     But social democrats must understand why the p...  \n",
       "...                                                 ...  \n",
       "1848  The wrecked body of the ruined train was burie...  \n",
       "1849  Natural resources were abundant in the North, ...  \n",
       "1850  If it is 3%, the required increase in annual t...  \n",
       "1851  Five years ago, Syria’s northern border towns ...  \n",
       "1852  Our world has changed vastly over the past cen...  \n",
       "\n",
       "[1853 rows x 4 columns]>"
      ]
     },
     "execution_count": 10,
     "metadata": {},
     "output_type": "execute_result"
    }
   ],
   "source": [
    "new_df = bp.get_merge()\n",
    "new_df.count"
   ]
  },
  {
   "cell_type": "code",
   "execution_count": 3,
   "metadata": {
    "ExecuteTime": {
     "end_time": "2020-06-08T07:25:21.826748Z",
     "start_time": "2020-06-08T07:25:21.820760Z"
    }
   },
   "outputs": [],
   "source": [
    "def get_length(sentence, groupby=\"char\", lang =\"en\"):\n",
    "    if groupby == \"char\":\n",
    "        n = len(sentence)\n",
    "        \n",
    "    elif groupby == \"word\":\n",
    "        if lang == \"en\":\n",
    "            n = len(bp.word_tokenize(sentence))\n",
    "        elif lang == \"zh\":\n",
    "            n = len(bp.jieba.lcut(sentence))\n",
    "            \n",
    "    elif groupby == \"special\":\n",
    "        # count each Chinese character as having length 2, and each English or punctuation character as having length 1\n",
    "        if lang == \"zh\":\n",
    "            n=0\n",
    "            for c in sentence:\n",
    "                if c in bp.punctuation:\n",
    "                    n+=1\n",
    "                else:\n",
    "                    n+=2\n",
    "        else:\n",
    "            n = len(sentence)\n",
    "            \n",
    "    return n\n",
    "    "
   ]
  },
  {
   "cell_type": "code",
   "execution_count": 15,
   "metadata": {
    "ExecuteTime": {
     "end_time": "2020-06-08T07:38:39.826459Z",
     "start_time": "2020-06-08T07:38:37.505675Z"
    }
   },
   "outputs": [
    {
     "name": "stdout",
     "output_type": "stream",
     "text": [
      "GC file does not exist, creating...\n"
     ]
    }
   ],
   "source": [
    "Path = bp.Path\n",
    "\n",
    "gc_file = Path(\"zh-en.training.gc\")\n",
    "\n",
    "if gc_file.is_file():\n",
    "    print('GC file exists, reading...')\n",
    "    gc_df = pd.read_csv(gc_file, header=0, sep='\\t')\n",
    "\n",
    "else:\n",
    "    \n",
    "    print('GC file does not exist, creating...')\n",
    "    \n",
    "    gc_df = new_df\n",
    "    gc_df['char_en'] = [get_length(new_df.iloc[i]['Sentence_en']) for i in range(1853)]\n",
    "    gc_df['char_zh'] = [get_length(new_df.iloc[i]['Sentence_zh'], lang=\"zh\") for i in range(1853)]\n",
    "    gc_df['word_en'] = [get_length(new_df.iloc[i]['Sentence_en'], \"word\") for i in range(1853)]\n",
    "    gc_df['word_zh'] = [get_length(new_df.iloc[i]['Sentence_zh'], \"word\", \"zh\") for i in range(1853)]\n",
    "    gc_df['special_en'] = [get_length(new_df.iloc[i]['Sentence_en'], \"special\") for i in range(1853)]\n",
    "    gc_df['special_zh'] = [get_length(new_df.iloc[i]['Sentence_zh'], \"special\", \"zh\") for i in range(1853)]\n",
    "    gc_df.to_csv(gc_file, index=False, sep='\\t')"
   ]
  },
  {
   "cell_type": "code",
   "execution_count": 16,
   "metadata": {
    "ExecuteTime": {
     "end_time": "2020-06-08T07:38:40.596523Z",
     "start_time": "2020-06-08T07:38:40.580599Z"
    }
   },
   "outputs": [
    {
     "data": {
      "text/html": [
       "<div>\n",
       "<style scoped>\n",
       "    .dataframe tbody tr th:only-of-type {\n",
       "        vertical-align: middle;\n",
       "    }\n",
       "\n",
       "    .dataframe tbody tr th {\n",
       "        vertical-align: top;\n",
       "    }\n",
       "\n",
       "    .dataframe thead th {\n",
       "        text-align: right;\n",
       "    }\n",
       "</style>\n",
       "<table border=\"1\" class=\"dataframe\">\n",
       "  <thead>\n",
       "    <tr style=\"text-align: right;\">\n",
       "      <th></th>\n",
       "      <th>ID_zh</th>\n",
       "      <th>ID_en</th>\n",
       "      <th>Sentence_zh</th>\n",
       "      <th>Sentence_en</th>\n",
       "      <th>char_en</th>\n",
       "      <th>char_zh</th>\n",
       "      <th>word_en</th>\n",
       "      <th>word_zh</th>\n",
       "      <th>special_en</th>\n",
       "      <th>special_zh</th>\n",
       "    </tr>\n",
       "  </thead>\n",
       "  <tbody>\n",
       "    <tr>\n",
       "      <th>0</th>\n",
       "      <td>zh-000000033</td>\n",
       "      <td>en-000005983</td>\n",
       "      <td>1989年以前，全球经济包含大约8亿到10亿人口。</td>\n",
       "      <td>Until 1989, the global market encompassed betw...</td>\n",
       "      <td>85</td>\n",
       "      <td>25</td>\n",
       "      <td>15</td>\n",
       "      <td>14</td>\n",
       "      <td>85</td>\n",
       "      <td>48</td>\n",
       "    </tr>\n",
       "    <tr>\n",
       "      <th>1</th>\n",
       "      <td>zh-000000231</td>\n",
       "      <td>en-000047360</td>\n",
       "      <td>今日全球面临的威胁是超民族的，因此也必须采取超民族的方式来应对。</td>\n",
       "      <td>The threats facing the world today are suprana...</td>\n",
       "      <td>103</td>\n",
       "      <td>32</td>\n",
       "      <td>18</td>\n",
       "      <td>21</td>\n",
       "      <td>103</td>\n",
       "      <td>62</td>\n",
       "    </tr>\n",
       "    <tr>\n",
       "      <th>2</th>\n",
       "      <td>zh-000000272</td>\n",
       "      <td>en-000027140</td>\n",
       "      <td>欧盟移民政策的硬伤还有一个不太显著的方面。</td>\n",
       "      <td>There is another, less obvious, reason why the...</td>\n",
       "      <td>82</td>\n",
       "      <td>21</td>\n",
       "      <td>18</td>\n",
       "      <td>12</td>\n",
       "      <td>82</td>\n",
       "      <td>41</td>\n",
       "    </tr>\n",
       "    <tr>\n",
       "      <th>3</th>\n",
       "      <td>zh-000000438</td>\n",
       "      <td>en-000065621</td>\n",
       "      <td>只有让民粹主义服务于自由主义改革，政府才能取得长久的利益。</td>\n",
       "      <td>Only if populism is put at the service of libe...</td>\n",
       "      <td>102</td>\n",
       "      <td>29</td>\n",
       "      <td>18</td>\n",
       "      <td>15</td>\n",
       "      <td>102</td>\n",
       "      <td>56</td>\n",
       "    </tr>\n",
       "    <tr>\n",
       "      <th>4</th>\n",
       "      <td>zh-000000639</td>\n",
       "      <td>en-000005169</td>\n",
       "      <td>但社会民主派必须理解为何示威的发展会独立于现有的有组织中左翼政治。</td>\n",
       "      <td>But social democrats must understand why the p...</td>\n",
       "      <td>129</td>\n",
       "      <td>33</td>\n",
       "      <td>19</td>\n",
       "      <td>20</td>\n",
       "      <td>129</td>\n",
       "      <td>65</td>\n",
       "    </tr>\n",
       "    <tr>\n",
       "      <th>...</th>\n",
       "      <td>...</td>\n",
       "      <td>...</td>\n",
       "      <td>...</td>\n",
       "      <td>...</td>\n",
       "      <td>...</td>\n",
       "      <td>...</td>\n",
       "      <td>...</td>\n",
       "      <td>...</td>\n",
       "      <td>...</td>\n",
       "      <td>...</td>\n",
       "    </tr>\n",
       "    <tr>\n",
       "      <th>1848</th>\n",
       "      <td>zh-000094590</td>\n",
       "      <td>en-000013258</td>\n",
       "      <td>事件发生后当局在尚未进行调查的情况下就匆匆掩埋了出事列车残骸。</td>\n",
       "      <td>The wrecked body of the ruined train was burie...</td>\n",
       "      <td>93</td>\n",
       "      <td>31</td>\n",
       "      <td>16</td>\n",
       "      <td>19</td>\n",
       "      <td>93</td>\n",
       "      <td>61</td>\n",
       "    </tr>\n",
       "    <tr>\n",
       "      <th>1849</th>\n",
       "      <td>zh-000094593</td>\n",
       "      <td>en-000061419</td>\n",
       "      <td>北方拥有丰富的自然资源，就连电力也是从北方输送到南方。</td>\n",
       "      <td>Natural resources were abundant in the North, ...</td>\n",
       "      <td>100</td>\n",
       "      <td>27</td>\n",
       "      <td>18</td>\n",
       "      <td>15</td>\n",
       "      <td>100</td>\n",
       "      <td>52</td>\n",
       "    </tr>\n",
       "    <tr>\n",
       "      <th>1850</th>\n",
       "      <td>zh-000094607</td>\n",
       "      <td>en-000039373</td>\n",
       "      <td>如果利率为3%，那么年税收额必须增加15亿美元。</td>\n",
       "      <td>If it is 3%, the required increase in annual t...</td>\n",
       "      <td>87</td>\n",
       "      <td>24</td>\n",
       "      <td>21</td>\n",
       "      <td>14</td>\n",
       "      <td>87</td>\n",
       "      <td>45</td>\n",
       "    </tr>\n",
       "    <tr>\n",
       "      <th>1851</th>\n",
       "      <td>zh-000094611</td>\n",
       "      <td>en-000003807</td>\n",
       "      <td>五年前，叙利亚北部边陲城镇享受着土耳其高速经济增长的红利。</td>\n",
       "      <td>Five years ago, Syria’s northern border towns ...</td>\n",
       "      <td>106</td>\n",
       "      <td>29</td>\n",
       "      <td>21</td>\n",
       "      <td>16</td>\n",
       "      <td>106</td>\n",
       "      <td>56</td>\n",
       "    </tr>\n",
       "    <tr>\n",
       "      <th>1852</th>\n",
       "      <td>zh-000094633</td>\n",
       "      <td>en-000083972</td>\n",
       "      <td>在过去的一个世纪中，我们的世界发生了翻天覆地的变化——技术是其中的重要原因。</td>\n",
       "      <td>Our world has changed vastly over the past cen...</td>\n",
       "      <td>88</td>\n",
       "      <td>38</td>\n",
       "      <td>17</td>\n",
       "      <td>24</td>\n",
       "      <td>88</td>\n",
       "      <td>74</td>\n",
       "    </tr>\n",
       "  </tbody>\n",
       "</table>\n",
       "<p>1853 rows × 10 columns</p>\n",
       "</div>"
      ],
      "text/plain": [
       "             ID_zh         ID_en                             Sentence_zh  \\\n",
       "0     zh-000000033  en-000005983               1989年以前，全球经济包含大约8亿到10亿人口。   \n",
       "1     zh-000000231  en-000047360        今日全球面临的威胁是超民族的，因此也必须采取超民族的方式来应对。   \n",
       "2     zh-000000272  en-000027140                   欧盟移民政策的硬伤还有一个不太显著的方面。   \n",
       "3     zh-000000438  en-000065621           只有让民粹主义服务于自由主义改革，政府才能取得长久的利益。   \n",
       "4     zh-000000639  en-000005169       但社会民主派必须理解为何示威的发展会独立于现有的有组织中左翼政治。   \n",
       "...            ...           ...                                     ...   \n",
       "1848  zh-000094590  en-000013258         事件发生后当局在尚未进行调查的情况下就匆匆掩埋了出事列车残骸。   \n",
       "1849  zh-000094593  en-000061419             北方拥有丰富的自然资源，就连电力也是从北方输送到南方。   \n",
       "1850  zh-000094607  en-000039373                如果利率为3%，那么年税收额必须增加15亿美元。   \n",
       "1851  zh-000094611  en-000003807           五年前，叙利亚北部边陲城镇享受着土耳其高速经济增长的红利。   \n",
       "1852  zh-000094633  en-000083972  在过去的一个世纪中，我们的世界发生了翻天覆地的变化——技术是其中的重要原因。   \n",
       "\n",
       "                                            Sentence_en  char_en  char_zh  \\\n",
       "0     Until 1989, the global market encompassed betw...       85       25   \n",
       "1     The threats facing the world today are suprana...      103       32   \n",
       "2     There is another, less obvious, reason why the...       82       21   \n",
       "3     Only if populism is put at the service of libe...      102       29   \n",
       "4     But social democrats must understand why the p...      129       33   \n",
       "...                                                 ...      ...      ...   \n",
       "1848  The wrecked body of the ruined train was burie...       93       31   \n",
       "1849  Natural resources were abundant in the North, ...      100       27   \n",
       "1850  If it is 3%, the required increase in annual t...       87       24   \n",
       "1851  Five years ago, Syria’s northern border towns ...      106       29   \n",
       "1852  Our world has changed vastly over the past cen...       88       38   \n",
       "\n",
       "      word_en  word_zh  special_en  special_zh  \n",
       "0          15       14          85          48  \n",
       "1          18       21         103          62  \n",
       "2          18       12          82          41  \n",
       "3          18       15         102          56  \n",
       "4          19       20         129          65  \n",
       "...       ...      ...         ...         ...  \n",
       "1848       16       19          93          61  \n",
       "1849       18       15         100          52  \n",
       "1850       21       14          87          45  \n",
       "1851       21       16         106          56  \n",
       "1852       17       24          88          74  \n",
       "\n",
       "[1853 rows x 10 columns]"
      ]
     },
     "execution_count": 16,
     "metadata": {},
     "output_type": "execute_result"
    }
   ],
   "source": [
    "gc_df"
   ]
  },
  {
   "cell_type": "code",
   "execution_count": 22,
   "metadata": {
    "ExecuteTime": {
     "end_time": "2020-06-05T10:55:37.967926Z",
     "start_time": "2020-06-05T10:55:37.962937Z"
    }
   },
   "outputs": [
    {
     "name": "stdout",
     "output_type": "stream",
     "text": [
      "The threats facing the world today are supranational, so counteracting them must be supranational, too.\n"
     ]
    }
   ],
   "source": [
    "print(new_df.iloc[1]['Sentence_en'])"
   ]
  },
  {
   "cell_type": "code",
   "execution_count": 77,
   "metadata": {
    "ExecuteTime": {
     "end_time": "2020-06-08T08:54:33.066006Z",
     "start_time": "2020-06-08T08:54:33.058067Z"
    }
   },
   "outputs": [
    {
     "data": {
      "text/plain": [
       "2.0832"
      ]
     },
     "execution_count": 77,
     "metadata": {},
     "output_type": "execute_result"
    }
   ],
   "source": [
    "en_len = [get_length(new_df.iloc[11]['Sentence_en'], \"special\")]\n",
    "zh_len = [get_length(new_df.iloc[11]['Sentence_zh'], \"special\", \"zh\")]\n",
    "\n",
    "round(gale_church.align_log_prob(0, 0, zh_len, en_len, (1,1), gale_church.LanguageIndependent), 4)"
   ]
  },
  {
   "cell_type": "code",
   "execution_count": 76,
   "metadata": {
    "ExecuteTime": {
     "end_time": "2020-06-08T08:47:57.987349Z",
     "start_time": "2020-06-08T08:47:57.545029Z"
    }
   },
   "outputs": [
    {
     "data": {
      "text/plain": [
       "<function matplotlib.pyplot.show(*args, **kw)>"
      ]
     },
     "execution_count": 76,
     "metadata": {},
     "output_type": "execute_result"
    },
    {
     "data": {
      "image/png": "[encoded data removed]",
      "text/plain": [
       "<Figure size 432x288 with 1 Axes>"
      ]
     },
     "metadata": {
      "needs_background": "light"
     },
     "output_type": "display_data"
    },
    {
     "data": {
      "image/png": "[encoded data removed]",
      "text/plain": [
       "<Figure size 432x288 with 1 Axes>"
      ]
     },
     "metadata": {
      "needs_background": "light"
     },
     "output_type": "display_data"
    },
    {
     "data": {
      "image/png": "[encoded data removed]",
      "text/plain": [
       "<Figure size 432x288 with 1 Axes>"
      ]
     },
     "metadata": {
      "needs_background": "light"
     },
     "output_type": "display_data"
    }
   ],
   "source": [
    "import matplotlib.pyplot as plt\n",
    "a = 1800\n",
    "b = 1853\n",
    "\n",
    "\n",
    "\n",
    "gc_df.plot(y=['char_en','char_zh'], legend=True, kind=\"line\")\n",
    "\n",
    "plt.xlim(a, b)\n",
    "plt.ylim(0, 120)\n",
    "\n",
    "\n",
    "gc_df.plot(y=['word_en','word_zh'], legend=True, kind=\"line\")\n",
    "\n",
    "plt.xlim(a, b)\n",
    "plt.ylim(10, 25)\n",
    "\n",
    "\n",
    "gc_df.plot(y=['special_en', 'special_zh'], legend=True, kind=\"line\")\n",
    "\n",
    "plt.xlim(a, b)\n",
    "plt.ylim(10, 140)\n",
    "\n",
    "plt.show"
   ]
  },
  {
   "cell_type": "code",
   "execution_count": 84,
   "metadata": {
    "ExecuteTime": {
     "end_time": "2020-06-08T09:01:24.439434Z",
     "start_time": "2020-06-08T09:01:24.134277Z"
    }
   },
   "outputs": [],
   "source": [
    "#lp_df = gc_df.drop(columns = ['char_en', 'char_zh', 'word_en', 'word_zh'])\n",
    "\n",
    "lp_df = gc_df\n",
    "lp_df['char_lp'] = [round(gale_church.align_log_prob(i+1, i+1, gc_df['char_en'], gc_df['char_zh'], (1,1), gale_church.LanguageIndependent), 3) for i in range(1853)]\n",
    "lp_df['word_lp'] = [round(gale_church.align_log_prob(i+1, i+1, gc_df['word_en'], gc_df['word_zh'], (1,1), gale_church.LanguageIndependent), 3) for i in range(1853)]\n",
    "lp_df['special_lp'] = [round(gale_church.align_log_prob(i+1, i+1, gc_df['special_en'], gc_df['special_zh'], (1,1), gale_church.LanguageIndependent), 3) for i in range(1853)]"
   ]
  },
  {
   "cell_type": "code",
   "execution_count": 85,
   "metadata": {
    "ExecuteTime": {
     "end_time": "2020-06-08T09:01:30.874480Z",
     "start_time": "2020-06-08T09:01:30.852929Z"
    }
   },
   "outputs": [
    {
     "data": {
      "text/html": [
       "<div>\n",
       "<style scoped>\n",
       "    .dataframe tbody tr th:only-of-type {\n",
       "        vertical-align: middle;\n",
       "    }\n",
       "\n",
       "    .dataframe tbody tr th {\n",
       "        vertical-align: top;\n",
       "    }\n",
       "\n",
       "    .dataframe thead th {\n",
       "        text-align: right;\n",
       "    }\n",
       "</style>\n",
       "<table border=\"1\" class=\"dataframe\">\n",
       "  <thead>\n",
       "    <tr style=\"text-align: right;\">\n",
       "      <th></th>\n",
       "      <th>ID_zh</th>\n",
       "      <th>ID_en</th>\n",
       "      <th>Sentence_zh</th>\n",
       "      <th>Sentence_en</th>\n",
       "      <th>char_en</th>\n",
       "      <th>char_zh</th>\n",
       "      <th>word_en</th>\n",
       "      <th>word_zh</th>\n",
       "      <th>special_en</th>\n",
       "      <th>special_zh</th>\n",
       "      <th>special_lp</th>\n",
       "      <th>char_lp</th>\n",
       "      <th>word_lp</th>\n",
       "    </tr>\n",
       "  </thead>\n",
       "  <tbody>\n",
       "    <tr>\n",
       "      <th>0</th>\n",
       "      <td>zh-000000033</td>\n",
       "      <td>en-000005983</td>\n",
       "      <td>1989年以前，全球经济包含大约8亿到10亿人口。</td>\n",
       "      <td>Until 1989, the global market encompassed betw...</td>\n",
       "      <td>85</td>\n",
       "      <td>25</td>\n",
       "      <td>15</td>\n",
       "      <td>14</td>\n",
       "      <td>85</td>\n",
       "      <td>48</td>\n",
       "      <td>2.619</td>\n",
       "      <td>6.373</td>\n",
       "      <td>0.200</td>\n",
       "    </tr>\n",
       "    <tr>\n",
       "      <th>1</th>\n",
       "      <td>zh-000000231</td>\n",
       "      <td>en-000047360</td>\n",
       "      <td>今日全球面临的威胁是超民族的，因此也必须采取超民族的方式来应对。</td>\n",
       "      <td>The threats facing the world today are suprana...</td>\n",
       "      <td>103</td>\n",
       "      <td>32</td>\n",
       "      <td>18</td>\n",
       "      <td>21</td>\n",
       "      <td>103</td>\n",
       "      <td>62</td>\n",
       "      <td>2.600</td>\n",
       "      <td>7.108</td>\n",
       "      <td>0.347</td>\n",
       "    </tr>\n",
       "    <tr>\n",
       "      <th>2</th>\n",
       "      <td>zh-000000272</td>\n",
       "      <td>en-000027140</td>\n",
       "      <td>欧盟移民政策的硬伤还有一个不太显著的方面。</td>\n",
       "      <td>There is another, less obvious, reason why the...</td>\n",
       "      <td>82</td>\n",
       "      <td>21</td>\n",
       "      <td>18</td>\n",
       "      <td>12</td>\n",
       "      <td>82</td>\n",
       "      <td>41</td>\n",
       "      <td>3.218</td>\n",
       "      <td>6.915</td>\n",
       "      <td>0.710</td>\n",
       "    </tr>\n",
       "    <tr>\n",
       "      <th>3</th>\n",
       "      <td>zh-000000438</td>\n",
       "      <td>en-000065621</td>\n",
       "      <td>只有让民粹主义服务于自由主义改革，政府才能取得长久的利益。</td>\n",
       "      <td>Only if populism is put at the service of libe...</td>\n",
       "      <td>102</td>\n",
       "      <td>29</td>\n",
       "      <td>18</td>\n",
       "      <td>15</td>\n",
       "      <td>102</td>\n",
       "      <td>56</td>\n",
       "      <td>3.170</td>\n",
       "      <td>7.636</td>\n",
       "      <td>0.369</td>\n",
       "    </tr>\n",
       "    <tr>\n",
       "      <th>4</th>\n",
       "      <td>zh-000000639</td>\n",
       "      <td>en-000005169</td>\n",
       "      <td>但社会民主派必须理解为何示威的发展会独立于现有的有组织中左翼政治。</td>\n",
       "      <td>But social democrats must understand why the p...</td>\n",
       "      <td>129</td>\n",
       "      <td>33</td>\n",
       "      <td>19</td>\n",
       "      <td>20</td>\n",
       "      <td>129</td>\n",
       "      <td>65</td>\n",
       "      <td>4.482</td>\n",
       "      <td>10.170</td>\n",
       "      <td>0.188</td>\n",
       "    </tr>\n",
       "    <tr>\n",
       "      <th>...</th>\n",
       "      <td>...</td>\n",
       "      <td>...</td>\n",
       "      <td>...</td>\n",
       "      <td>...</td>\n",
       "      <td>...</td>\n",
       "      <td>...</td>\n",
       "      <td>...</td>\n",
       "      <td>...</td>\n",
       "      <td>...</td>\n",
       "      <td>...</td>\n",
       "      <td>...</td>\n",
       "      <td>...</td>\n",
       "      <td>...</td>\n",
       "    </tr>\n",
       "    <tr>\n",
       "      <th>1848</th>\n",
       "      <td>zh-000094590</td>\n",
       "      <td>en-000013258</td>\n",
       "      <td>事件发生后当局在尚未进行调查的情况下就匆匆掩埋了出事列车残骸。</td>\n",
       "      <td>The wrecked body of the ruined train was burie...</td>\n",
       "      <td>93</td>\n",
       "      <td>31</td>\n",
       "      <td>16</td>\n",
       "      <td>19</td>\n",
       "      <td>93</td>\n",
       "      <td>61</td>\n",
       "      <td>1.937</td>\n",
       "      <td>6.095</td>\n",
       "      <td>0.361</td>\n",
       "    </tr>\n",
       "    <tr>\n",
       "      <th>1849</th>\n",
       "      <td>zh-000094593</td>\n",
       "      <td>en-000061419</td>\n",
       "      <td>北方拥有丰富的自然资源，就连电力也是从北方输送到南方。</td>\n",
       "      <td>Natural resources were abundant in the North, ...</td>\n",
       "      <td>100</td>\n",
       "      <td>27</td>\n",
       "      <td>18</td>\n",
       "      <td>15</td>\n",
       "      <td>100</td>\n",
       "      <td>52</td>\n",
       "      <td>3.477</td>\n",
       "      <td>7.838</td>\n",
       "      <td>0.369</td>\n",
       "    </tr>\n",
       "    <tr>\n",
       "      <th>1850</th>\n",
       "      <td>zh-000094607</td>\n",
       "      <td>en-000039373</td>\n",
       "      <td>如果利率为3%，那么年税收额必须增加15亿美元。</td>\n",
       "      <td>If it is 3%, the required increase in annual t...</td>\n",
       "      <td>87</td>\n",
       "      <td>24</td>\n",
       "      <td>21</td>\n",
       "      <td>14</td>\n",
       "      <td>87</td>\n",
       "      <td>45</td>\n",
       "      <td>3.165</td>\n",
       "      <td>6.856</td>\n",
       "      <td>0.768</td>\n",
       "    </tr>\n",
       "    <tr>\n",
       "      <th>1851</th>\n",
       "      <td>zh-000094611</td>\n",
       "      <td>en-000003807</td>\n",
       "      <td>五年前，叙利亚北部边陲城镇享受着土耳其高速经济增长的红利。</td>\n",
       "      <td>Five years ago, Syria’s northern border towns ...</td>\n",
       "      <td>106</td>\n",
       "      <td>29</td>\n",
       "      <td>21</td>\n",
       "      <td>16</td>\n",
       "      <td>106</td>\n",
       "      <td>56</td>\n",
       "      <td>3.524</td>\n",
       "      <td>8.146</td>\n",
       "      <td>0.539</td>\n",
       "    </tr>\n",
       "    <tr>\n",
       "      <th>1852</th>\n",
       "      <td>zh-000094633</td>\n",
       "      <td>en-000083972</td>\n",
       "      <td>在过去的一个世纪中，我们的世界发生了翻天覆地的变化——技术是其中的重要原因。</td>\n",
       "      <td>Our world has changed vastly over the past cen...</td>\n",
       "      <td>88</td>\n",
       "      <td>38</td>\n",
       "      <td>17</td>\n",
       "      <td>24</td>\n",
       "      <td>88</td>\n",
       "      <td>74</td>\n",
       "      <td>0.713</td>\n",
       "      <td>4.270</td>\n",
       "      <td>0.708</td>\n",
       "    </tr>\n",
       "  </tbody>\n",
       "</table>\n",
       "<p>1853 rows × 13 columns</p>\n",
       "</div>"
      ],
      "text/plain": [
       "             ID_zh         ID_en                             Sentence_zh  \\\n",
       "0     zh-000000033  en-000005983               1989年以前，全球经济包含大约8亿到10亿人口。   \n",
       "1     zh-000000231  en-000047360        今日全球面临的威胁是超民族的，因此也必须采取超民族的方式来应对。   \n",
       "2     zh-000000272  en-000027140                   欧盟移民政策的硬伤还有一个不太显著的方面。   \n",
       "3     zh-000000438  en-000065621           只有让民粹主义服务于自由主义改革，政府才能取得长久的利益。   \n",
       "4     zh-000000639  en-000005169       但社会民主派必须理解为何示威的发展会独立于现有的有组织中左翼政治。   \n",
       "...            ...           ...                                     ...   \n",
       "1848  zh-000094590  en-000013258         事件发生后当局在尚未进行调查的情况下就匆匆掩埋了出事列车残骸。   \n",
       "1849  zh-000094593  en-000061419             北方拥有丰富的自然资源，就连电力也是从北方输送到南方。   \n",
       "1850  zh-000094607  en-000039373                如果利率为3%，那么年税收额必须增加15亿美元。   \n",
       "1851  zh-000094611  en-000003807           五年前，叙利亚北部边陲城镇享受着土耳其高速经济增长的红利。   \n",
       "1852  zh-000094633  en-000083972  在过去的一个世纪中，我们的世界发生了翻天覆地的变化——技术是其中的重要原因。   \n",
       "\n",
       "                                            Sentence_en  char_en  char_zh  \\\n",
       "0     Until 1989, the global market encompassed betw...       85       25   \n",
       "1     The threats facing the world today are suprana...      103       32   \n",
       "2     There is another, less obvious, reason why the...       82       21   \n",
       "3     Only if populism is put at the service of libe...      102       29   \n",
       "4     But social democrats must understand why the p...      129       33   \n",
       "...                                                 ...      ...      ...   \n",
       "1848  The wrecked body of the ruined train was burie...       93       31   \n",
       "1849  Natural resources were abundant in the North, ...      100       27   \n",
       "1850  If it is 3%, the required increase in annual t...       87       24   \n",
       "1851  Five years ago, Syria’s northern border towns ...      106       29   \n",
       "1852  Our world has changed vastly over the past cen...       88       38   \n",
       "\n",
       "      word_en  word_zh  special_en  special_zh  special_lp  char_lp  word_lp  \n",
       "0          15       14          85          48       2.619    6.373    0.200  \n",
       "1          18       21         103          62       2.600    7.108    0.347  \n",
       "2          18       12          82          41       3.218    6.915    0.710  \n",
       "3          18       15         102          56       3.170    7.636    0.369  \n",
       "4          19       20         129          65       4.482   10.170    0.188  \n",
       "...       ...      ...         ...         ...         ...      ...      ...  \n",
       "1848       16       19          93          61       1.937    6.095    0.361  \n",
       "1849       18       15         100          52       3.477    7.838    0.369  \n",
       "1850       21       14          87          45       3.165    6.856    0.768  \n",
       "1851       21       16         106          56       3.524    8.146    0.539  \n",
       "1852       17       24          88          74       0.713    4.270    0.708  \n",
       "\n",
       "[1853 rows x 13 columns]"
      ]
     },
     "execution_count": 85,
     "metadata": {},
     "output_type": "execute_result"
    }
   ],
   "source": [
    "lp_df"
   ]
  },
  {
   "cell_type": "code",
   "execution_count": 137,
   "metadata": {
    "ExecuteTime": {
     "end_time": "2020-06-08T09:37:40.423208Z",
     "start_time": "2020-06-08T09:37:40.257719Z"
    }
   },
   "outputs": [
    {
     "data": {
      "text/plain": [
       "<function matplotlib.pyplot.show(*args, **kw)>"
      ]
     },
     "execution_count": 137,
     "metadata": {},
     "output_type": "execute_result"
    },
    {
     "data": {
      "image/png": "[encoded data removed]",
      "text/plain": [
       "<Figure size 432x288 with 1 Axes>"
      ]
     },
     "metadata": {
      "needs_background": "light"
     },
     "output_type": "display_data"
    }
   ],
   "source": [
    "zoom = lambda x,y : (x,x+y)\n",
    "\n",
    "a = 500\n",
    "b = 50\n",
    "\n",
    "\n",
    "\n",
    "lp_df.plot(y=['char_lp','word_lp','special_lp'], legend=True, kind=\"line\")\n",
    "\n",
    "plt.xlim(zoom(a,b))\n",
    "plt.ylim(0, 12)\n",
    "\n",
    "\n",
    "\n",
    "plt.show"
   ]
  },
  {
   "cell_type": "code",
   "execution_count": 151,
   "metadata": {
    "ExecuteTime": {
     "end_time": "2020-06-08T09:53:39.161311Z",
     "start_time": "2020-06-08T09:53:39.052750Z"
    }
   },
   "outputs": [
    {
     "data": {
      "text/plain": [
       "NO     1753\n",
       "YES     100\n",
       "Name: special_lp, dtype: int64"
      ]
     },
     "execution_count": 151,
     "metadata": {},
     "output_type": "execute_result"
    }
   ],
   "source": [
    "#lp_df['special_bool'] = \n",
    "\n",
    "lp_df['special_lp'].apply(lambda x: \"YES\" if x < 1 else \"NO\").value_counts()"
   ]
  },
  {
   "cell_type": "code",
   "execution_count": 148,
   "metadata": {
    "ExecuteTime": {
     "end_time": "2020-06-08T09:53:06.346508Z",
     "start_time": "2020-06-08T09:53:06.322538Z"
    }
   },
   "outputs": [
    {
     "name": "stdout",
     "output_type": "stream",
     "text": [
      "Line: 33 \t 686 \tDiff: 59 \tLogProb: 5.02 \tPair: NO\n",
      "Line: 1807 \t 104 \tDiff: 66 \tLogProb: 5.08 \tPair: NO\n",
      "Line: 1386 \t 15 \tDiff: 20 \tLogProb: 1.1 \tPair: NO\n",
      "Line: 628 \t 1213 \tDiff: 14 \tLogProb: 0.79 \tPair: YES\n",
      "Line: 1658 \t 694 \tDiff: 57 \tLogProb: 4.02 \tPair: NO\n",
      "Line: 994 \t 648 \tDiff: 65 \tLogProb: 5.22 \tPair: NO\n",
      "Line: 1527 \t 540 \tDiff: 54 \tLogProb: 3.48 \tPair: NO\n",
      "Line: 1639 \t 1541 \tDiff: 54 \tLogProb: 4.39 \tPair: NO\n",
      "Line: 789 \t 211 \tDiff: 37 \tLogProb: 2.08 \tPair: NO\n",
      "Line: 1365 \t 1246 \tDiff: 55 \tLogProb: 4.64 \tPair: NO\n",
      "\n",
      "Accuracy:90.0%\n"
     ]
    }
   ],
   "source": [
    "from random import randrange\n",
    "\n",
    "def negatest(t,n=0, groupby=\"char\", criteria=1):\n",
    "    \n",
    "    tn=0 #true negatives\n",
    "    fp=0 #false positives\n",
    "    \n",
    "    start_n = n\n",
    "    \n",
    "    while t > n:\n",
    "        x = randrange(1853)\n",
    "        y = randrange(1853)\n",
    "        if x != y:\n",
    "            en_len = get_length(new_df.iloc[x]['Sentence_en'], groupby=groupby)\n",
    "            zh_len = get_length(new_df.iloc[y]['Sentence_zh'], lang=\"zh\", groupby=groupby)\n",
    "            diff_value = abs(en_len-zh_len)\n",
    "            this_value = gale_church.align_log_prob(1, 1, [en_len], [zh_len], (1,1), gale_church.LanguageIndependent)\n",
    "            \n",
    "            x = str(x)\n",
    "            y = str(y)\n",
    "            \n",
    "            if this_value<criteria:\n",
    "                j = \"YES\"\n",
    "                fp+=1\n",
    "            else:\n",
    "                j = \"NO\"\n",
    "                tn+=1\n",
    "            \n",
    "            \n",
    "            print('Line:',x,'\\t',y, '\\tDiff:', diff_value, '\\tLogProb:', round(this_value,2), '\\tPair:', j)\n",
    "            n+=1\n",
    "    \n",
    "    print('\\nAccuracy:' + str(round(tn/(t-start_n)*100,1))+'%')\n",
    "    \n",
    "    return\n",
    "\n",
    "negatest(10, groupby=\"special\", criteria=1)\n",
    "            "
   ]
  },
  {
   "cell_type": "code",
   "execution_count": 147,
   "metadata": {
    "ExecuteTime": {
     "end_time": "2020-06-08T09:52:52.410634Z",
     "start_time": "2020-06-08T09:52:52.401658Z"
    }
   },
   "outputs": [
    {
     "name": "stdout",
     "output_type": "stream",
     "text": [
      "This year, China will surpass the US in emissions of greenhouse gases. 70\n",
      "第三，政府应该用再造预算（reengineeringbudget）武装自己。 74\n",
      "0.27138351724039533\n"
     ]
    }
   ],
   "source": [
    "x, y = (997,305)\n",
    "groupby = \"special\"\n",
    "en_len = get_length(new_df.iloc[x]['Sentence_en'], groupby=groupby)\n",
    "zh_len = get_length(new_df.iloc[y]['Sentence_zh'], lang=\"zh\", groupby=groupby)\n",
    "print(new_df.iloc[x]['Sentence_en'], get_length(new_df.iloc[x]['Sentence_en'], groupby=groupby))\n",
    "print(new_df.iloc[y]['Sentence_zh'], get_length(new_df.iloc[y]['Sentence_zh'], lang=\"zh\", groupby=groupby))\n",
    "print(gale_church.align_log_prob(1, 1, [en_len], [zh_len], (1,1), gale_church.LanguageIndependent))"
   ]
  },
  {
   "cell_type": "code",
   "execution_count": 133,
   "metadata": {
    "ExecuteTime": {
     "end_time": "2020-06-08T09:36:29.006350Z",
     "start_time": "2020-06-08T09:36:28.917216Z"
    }
   },
   "outputs": [
    {
     "data": {
      "text/plain": [
       "8.697"
      ]
     },
     "execution_count": 133,
     "metadata": {},
     "output_type": "execute_result"
    }
   ],
   "source": [
    "lp_df['special_lp'].max()"
   ]
  },
  {
   "cell_type": "code",
   "execution_count": 134,
   "metadata": {
    "ExecuteTime": {
     "end_time": "2020-06-08T09:36:37.664705Z",
     "start_time": "2020-06-08T09:36:37.658722Z"
    }
   },
   "outputs": [
    {
     "data": {
      "text/plain": [
       "0.117"
      ]
     },
     "execution_count": 134,
     "metadata": {},
     "output_type": "execute_result"
    }
   ],
   "source": [
    "lp_df['special_lp'].min()"
   ]
  },
  {
   "cell_type": "code",
   "execution_count": null,
   "metadata": {},
   "outputs": [],
   "source": []
  }
 ],
 "metadata": {
  "kernelspec": {
   "display_name": "Python 3",
   "language": "python",
   "name": "python3"
  },
  "language_info": {
   "codemirror_mode": {
    "name": "ipython",
    "version": 3
   },
   "file_extension": ".py",
   "mimetype": "text/x-python",
   "name": "python",
   "nbconvert_exporter": "python",
   "pygments_lexer": "ipython3",
   "version": "3.7.6"
  }
 },
 "nbformat": 4,
 "nbformat_minor": 4
}
