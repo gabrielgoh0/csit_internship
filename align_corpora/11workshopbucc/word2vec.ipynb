{
 "cells": [
  {
   "cell_type": "code",
   "execution_count": 21,
   "metadata": {
    "ExecuteTime": {
     "end_time": "2020-06-01T07:49:31.518724Z",
     "start_time": "2020-06-01T07:49:30.750633Z"
    }
   },
   "outputs": [],
   "source": [
    "## Word Embeddings ##\n",
    "# Word2Vec self-trained model\n",
    "# might not be enough data to train a word2vec model\n",
    "\n",
    "import pandas as pd\n",
    "import numpy as np\n",
    "import nltk\n",
    "import jieba\n",
    "from nltk.stem import PorterStemmer\n",
    "from nltk.tokenize import word_tokenize  # splits by contractions which I don't like\n",
    "from string import punctuation\n",
    "import multiprocessing\n",
    "from gensim.models import Word2Vec\n",
    "from gensim.models import KeyedVectors\n",
    "from gensim.test.utils import get_tmpfile"
   ]
  },
  {
   "cell_type": "code",
   "execution_count": 16,
   "metadata": {
    "ExecuteTime": {
     "end_time": "2020-06-01T07:25:10.309677Z",
     "start_time": "2020-06-01T07:25:10.004767Z"
    }
   },
   "outputs": [
    {
     "name": "stderr",
     "output_type": "stream",
     "text": [
      "[nltk_data] Downloading package punkt to\n",
      "[nltk_data]     C:\\Users\\gabri\\AppData\\Roaming\\nltk_data...\n",
      "[nltk_data]   Package punkt is already up-to-date!\n",
      "[nltk_data] Downloading package stopwords to\n",
      "[nltk_data]     C:\\Users\\gabri\\AppData\\Roaming\\nltk_data...\n",
      "[nltk_data]   Package stopwords is already up-to-date!\n"
     ]
    }
   ],
   "source": [
    "nltk.download('punkt')\n",
    "nltk.download('stopwords')\n",
    "from nltk.corpus import stopwords"
   ]
  },
  {
   "cell_type": "code",
   "execution_count": 17,
   "metadata": {
    "ExecuteTime": {
     "end_time": "2020-06-01T07:25:14.097280Z",
     "start_time": "2020-06-01T07:25:12.992589Z"
    }
   },
   "outputs": [],
   "source": [
    "zh_file = \"zh-en.training.zh\"\n",
    "en_file = \"zh-en.training.en\"\n",
    "\n",
    "zh_df = pd.read_csv(zh_file, names=['ID_zh','Sentence_zh'], sep='\\t')\n",
    "en_df = pd.read_csv(en_file, names=['ID_en','Sentence_en'], sep='\\t')"
   ]
  },
  {
   "cell_type": "code",
   "execution_count": 4,
   "metadata": {
    "ExecuteTime": {
     "end_time": "2020-06-01T06:54:29.580489Z",
     "start_time": "2020-06-01T06:54:29.278702Z"
    }
   },
   "outputs": [
    {
     "data": {
      "text/html": [
       "<div>\n",
       "<style scoped>\n",
       "    .dataframe tbody tr th:only-of-type {\n",
       "        vertical-align: middle;\n",
       "    }\n",
       "\n",
       "    .dataframe tbody tr th {\n",
       "        vertical-align: top;\n",
       "    }\n",
       "\n",
       "    .dataframe thead th {\n",
       "        text-align: right;\n",
       "    }\n",
       "</style>\n",
       "<table border=\"1\" class=\"dataframe\">\n",
       "  <thead>\n",
       "    <tr style=\"text-align: right;\">\n",
       "      <th></th>\n",
       "      <th>ID_en</th>\n",
       "      <th>Sentence_en</th>\n",
       "    </tr>\n",
       "  </thead>\n",
       "  <tbody>\n",
       "    <tr>\n",
       "      <th>5955</th>\n",
       "      <td>en-000005983</td>\n",
       "      <td>Until 1989, the global market encompassed betw...</td>\n",
       "    </tr>\n",
       "  </tbody>\n",
       "</table>\n",
       "</div>"
      ],
      "text/plain": [
       "             ID_en                                        Sentence_en\n",
       "5955  en-000005983  Until 1989, the global market encompassed betw..."
      ]
     },
     "execution_count": 4,
     "metadata": {},
     "output_type": "execute_result"
    }
   ],
   "source": [
    "en_df.loc[en_df['ID_en'] == \"en-000005983\"]"
   ]
  },
  {
   "cell_type": "code",
   "execution_count": 5,
   "metadata": {
    "ExecuteTime": {
     "end_time": "2020-06-01T06:54:30.469468Z",
     "start_time": "2020-06-01T06:54:30.453510Z"
    }
   },
   "outputs": [
    {
     "data": {
      "text/html": [
       "<div>\n",
       "<style scoped>\n",
       "    .dataframe tbody tr th:only-of-type {\n",
       "        vertical-align: middle;\n",
       "    }\n",
       "\n",
       "    .dataframe tbody tr th {\n",
       "        vertical-align: top;\n",
       "    }\n",
       "\n",
       "    .dataframe thead th {\n",
       "        text-align: right;\n",
       "    }\n",
       "</style>\n",
       "<table border=\"1\" class=\"dataframe\">\n",
       "  <thead>\n",
       "    <tr style=\"text-align: right;\">\n",
       "      <th></th>\n",
       "      <th>ID_zh</th>\n",
       "      <th>Sentence_zh</th>\n",
       "    </tr>\n",
       "  </thead>\n",
       "  <tbody>\n",
       "    <tr>\n",
       "      <th>230</th>\n",
       "      <td>zh-000000231</td>\n",
       "      <td>今日全球面临的威胁是超民族的，因此也必须采取超民族的方式来应对。</td>\n",
       "    </tr>\n",
       "  </tbody>\n",
       "</table>\n",
       "</div>"
      ],
      "text/plain": [
       "            ID_zh                       Sentence_zh\n",
       "230  zh-000000231  今日全球面临的威胁是超民族的，因此也必须采取超民族的方式来应对。"
      ]
     },
     "execution_count": 5,
     "metadata": {},
     "output_type": "execute_result"
    }
   ],
   "source": [
    "zh_df.loc[zh_df['ID_zh'] == \"zh-000000231\"]"
   ]
  },
  {
   "cell_type": "code",
   "execution_count": 6,
   "metadata": {
    "ExecuteTime": {
     "end_time": "2020-06-01T06:54:31.882900Z",
     "start_time": "2020-06-01T06:54:31.697715Z"
    }
   },
   "outputs": [
    {
     "data": {
      "text/html": [
       "<div>\n",
       "<style scoped>\n",
       "    .dataframe tbody tr th:only-of-type {\n",
       "        vertical-align: middle;\n",
       "    }\n",
       "\n",
       "    .dataframe tbody tr th {\n",
       "        vertical-align: top;\n",
       "    }\n",
       "\n",
       "    .dataframe thead th {\n",
       "        text-align: right;\n",
       "    }\n",
       "</style>\n",
       "<table border=\"1\" class=\"dataframe\">\n",
       "  <thead>\n",
       "    <tr style=\"text-align: right;\">\n",
       "      <th></th>\n",
       "      <th>ID_zh</th>\n",
       "      <th>ID_en</th>\n",
       "    </tr>\n",
       "  </thead>\n",
       "  <tbody>\n",
       "    <tr>\n",
       "      <th>0</th>\n",
       "      <td>zh-000000033</td>\n",
       "      <td>en-000005983</td>\n",
       "    </tr>\n",
       "    <tr>\n",
       "      <th>1</th>\n",
       "      <td>zh-000000231</td>\n",
       "      <td>en-000047360</td>\n",
       "    </tr>\n",
       "    <tr>\n",
       "      <th>2</th>\n",
       "      <td>zh-000000272</td>\n",
       "      <td>en-000027140</td>\n",
       "    </tr>\n",
       "    <tr>\n",
       "      <th>3</th>\n",
       "      <td>zh-000000438</td>\n",
       "      <td>en-000065621</td>\n",
       "    </tr>\n",
       "    <tr>\n",
       "      <th>4</th>\n",
       "      <td>zh-000000639</td>\n",
       "      <td>en-000005169</td>\n",
       "    </tr>\n",
       "    <tr>\n",
       "      <th>...</th>\n",
       "      <td>...</td>\n",
       "      <td>...</td>\n",
       "    </tr>\n",
       "    <tr>\n",
       "      <th>1894</th>\n",
       "      <td>zh-000094590</td>\n",
       "      <td>en-000013258</td>\n",
       "    </tr>\n",
       "    <tr>\n",
       "      <th>1895</th>\n",
       "      <td>zh-000094593</td>\n",
       "      <td>en-000061419</td>\n",
       "    </tr>\n",
       "    <tr>\n",
       "      <th>1896</th>\n",
       "      <td>zh-000094607</td>\n",
       "      <td>en-000039373</td>\n",
       "    </tr>\n",
       "    <tr>\n",
       "      <th>1897</th>\n",
       "      <td>zh-000094611</td>\n",
       "      <td>en-000003807</td>\n",
       "    </tr>\n",
       "    <tr>\n",
       "      <th>1898</th>\n",
       "      <td>zh-000094633</td>\n",
       "      <td>en-000083972</td>\n",
       "    </tr>\n",
       "  </tbody>\n",
       "</table>\n",
       "<p>1899 rows × 2 columns</p>\n",
       "</div>"
      ],
      "text/plain": [
       "             ID_zh         ID_en\n",
       "0     zh-000000033  en-000005983\n",
       "1     zh-000000231  en-000047360\n",
       "2     zh-000000272  en-000027140\n",
       "3     zh-000000438  en-000065621\n",
       "4     zh-000000639  en-000005169\n",
       "...            ...           ...\n",
       "1894  zh-000094590  en-000013258\n",
       "1895  zh-000094593  en-000061419\n",
       "1896  zh-000094607  en-000039373\n",
       "1897  zh-000094611  en-000003807\n",
       "1898  zh-000094633  en-000083972\n",
       "\n",
       "[1899 rows x 2 columns]"
      ]
     },
     "execution_count": 6,
     "metadata": {},
     "output_type": "execute_result"
    }
   ],
   "source": [
    "pair_file = \"zh-en.training.gold\"\n",
    "\n",
    "pair_df = pd.read_csv(pair_file, names=['ID_zh','ID_en'], sep='\\t')\n",
    "\n",
    "pair_df"
   ]
  },
  {
   "cell_type": "code",
   "execution_count": 7,
   "metadata": {
    "ExecuteTime": {
     "end_time": "2020-06-01T06:54:33.502194Z",
     "start_time": "2020-06-01T06:54:33.335423Z"
    }
   },
   "outputs": [
    {
     "data": {
      "text/html": [
       "<div>\n",
       "<style scoped>\n",
       "    .dataframe tbody tr th:only-of-type {\n",
       "        vertical-align: middle;\n",
       "    }\n",
       "\n",
       "    .dataframe tbody tr th {\n",
       "        vertical-align: top;\n",
       "    }\n",
       "\n",
       "    .dataframe thead th {\n",
       "        text-align: right;\n",
       "    }\n",
       "</style>\n",
       "<table border=\"1\" class=\"dataframe\">\n",
       "  <thead>\n",
       "    <tr style=\"text-align: right;\">\n",
       "      <th></th>\n",
       "      <th>ID_zh</th>\n",
       "      <th>ID_en</th>\n",
       "      <th>Sentence_zh</th>\n",
       "      <th>Sentence_en</th>\n",
       "    </tr>\n",
       "  </thead>\n",
       "  <tbody>\n",
       "    <tr>\n",
       "      <th>0</th>\n",
       "      <td>zh-000000033</td>\n",
       "      <td>en-000005983</td>\n",
       "      <td>1989年以前，全球经济包含大约8亿到10亿人口。</td>\n",
       "      <td>Until 1989, the global market encompassed betw...</td>\n",
       "    </tr>\n",
       "    <tr>\n",
       "      <th>1</th>\n",
       "      <td>zh-000000231</td>\n",
       "      <td>en-000047360</td>\n",
       "      <td>今日全球面临的威胁是超民族的，因此也必须采取超民族的方式来应对。</td>\n",
       "      <td>The threats facing the world today are suprana...</td>\n",
       "    </tr>\n",
       "    <tr>\n",
       "      <th>2</th>\n",
       "      <td>zh-000000272</td>\n",
       "      <td>en-000027140</td>\n",
       "      <td>欧盟移民政策的硬伤还有一个不太显著的方面。</td>\n",
       "      <td>There is another, less obvious, reason why the...</td>\n",
       "    </tr>\n",
       "    <tr>\n",
       "      <th>3</th>\n",
       "      <td>zh-000000438</td>\n",
       "      <td>en-000065621</td>\n",
       "      <td>只有让民粹主义服务于自由主义改革，政府才能取得长久的利益。</td>\n",
       "      <td>Only if populism is put at the service of libe...</td>\n",
       "    </tr>\n",
       "    <tr>\n",
       "      <th>4</th>\n",
       "      <td>zh-000000639</td>\n",
       "      <td>en-000005169</td>\n",
       "      <td>但社会民主派必须理解为何示威的发展会独立于现有的有组织中左翼政治。</td>\n",
       "      <td>But social democrats must understand why the p...</td>\n",
       "    </tr>\n",
       "    <tr>\n",
       "      <th>...</th>\n",
       "      <td>...</td>\n",
       "      <td>...</td>\n",
       "      <td>...</td>\n",
       "      <td>...</td>\n",
       "    </tr>\n",
       "    <tr>\n",
       "      <th>1848</th>\n",
       "      <td>zh-000094590</td>\n",
       "      <td>en-000013258</td>\n",
       "      <td>事件发生后当局在尚未进行调查的情况下就匆匆掩埋了出事列车残骸。</td>\n",
       "      <td>The wrecked body of the ruined train was burie...</td>\n",
       "    </tr>\n",
       "    <tr>\n",
       "      <th>1849</th>\n",
       "      <td>zh-000094593</td>\n",
       "      <td>en-000061419</td>\n",
       "      <td>北方拥有丰富的自然资源，就连电力也是从北方输送到南方。</td>\n",
       "      <td>Natural resources were abundant in the North, ...</td>\n",
       "    </tr>\n",
       "    <tr>\n",
       "      <th>1850</th>\n",
       "      <td>zh-000094607</td>\n",
       "      <td>en-000039373</td>\n",
       "      <td>如果利率为3%，那么年税收额必须增加15亿美元。</td>\n",
       "      <td>If it is 3%, the required increase in annual t...</td>\n",
       "    </tr>\n",
       "    <tr>\n",
       "      <th>1851</th>\n",
       "      <td>zh-000094611</td>\n",
       "      <td>en-000003807</td>\n",
       "      <td>五年前，叙利亚北部边陲城镇享受着土耳其高速经济增长的红利。</td>\n",
       "      <td>Five years ago, Syria’s northern border towns ...</td>\n",
       "    </tr>\n",
       "    <tr>\n",
       "      <th>1852</th>\n",
       "      <td>zh-000094633</td>\n",
       "      <td>en-000083972</td>\n",
       "      <td>在过去的一个世纪中，我们的世界发生了翻天覆地的变化——技术是其中的重要原因。</td>\n",
       "      <td>Our world has changed vastly over the past cen...</td>\n",
       "    </tr>\n",
       "  </tbody>\n",
       "</table>\n",
       "<p>1853 rows × 4 columns</p>\n",
       "</div>"
      ],
      "text/plain": [
       "             ID_zh         ID_en                             Sentence_zh  \\\n",
       "0     zh-000000033  en-000005983               1989年以前，全球经济包含大约8亿到10亿人口。   \n",
       "1     zh-000000231  en-000047360        今日全球面临的威胁是超民族的，因此也必须采取超民族的方式来应对。   \n",
       "2     zh-000000272  en-000027140                   欧盟移民政策的硬伤还有一个不太显著的方面。   \n",
       "3     zh-000000438  en-000065621           只有让民粹主义服务于自由主义改革，政府才能取得长久的利益。   \n",
       "4     zh-000000639  en-000005169       但社会民主派必须理解为何示威的发展会独立于现有的有组织中左翼政治。   \n",
       "...            ...           ...                                     ...   \n",
       "1848  zh-000094590  en-000013258         事件发生后当局在尚未进行调查的情况下就匆匆掩埋了出事列车残骸。   \n",
       "1849  zh-000094593  en-000061419             北方拥有丰富的自然资源，就连电力也是从北方输送到南方。   \n",
       "1850  zh-000094607  en-000039373                如果利率为3%，那么年税收额必须增加15亿美元。   \n",
       "1851  zh-000094611  en-000003807           五年前，叙利亚北部边陲城镇享受着土耳其高速经济增长的红利。   \n",
       "1852  zh-000094633  en-000083972  在过去的一个世纪中，我们的世界发生了翻天覆地的变化——技术是其中的重要原因。   \n",
       "\n",
       "                                            Sentence_en  \n",
       "0     Until 1989, the global market encompassed betw...  \n",
       "1     The threats facing the world today are suprana...  \n",
       "2     There is another, less obvious, reason why the...  \n",
       "3     Only if populism is put at the service of libe...  \n",
       "4     But social democrats must understand why the p...  \n",
       "...                                                 ...  \n",
       "1848  The wrecked body of the ruined train was burie...  \n",
       "1849  Natural resources were abundant in the North, ...  \n",
       "1850  If it is 3%, the required increase in annual t...  \n",
       "1851  Five years ago, Syria’s northern border towns ...  \n",
       "1852  Our world has changed vastly over the past cen...  \n",
       "\n",
       "[1853 rows x 4 columns]"
      ]
     },
     "execution_count": 7,
     "metadata": {},
     "output_type": "execute_result"
    }
   ],
   "source": [
    "new_df = pair_df.merge(zh_df, 'inner', 'ID_zh')\n",
    "new_df = new_df.merge(en_df, 'inner', 'ID_en')\n",
    "new_df"
   ]
  },
  {
   "cell_type": "code",
   "execution_count": 8,
   "metadata": {
    "ExecuteTime": {
     "end_time": "2020-06-01T06:54:34.884623Z",
     "start_time": "2020-06-01T06:54:34.879673Z"
    }
   },
   "outputs": [
    {
     "data": {
      "text/plain": [
       "\"As disclosure of emission related data as CDP's primary activity, the quality of the data reported to CDP is key.\""
      ]
     },
     "execution_count": 8,
     "metadata": {},
     "output_type": "execute_result"
    }
   ],
   "source": [
    "en_df.iloc[0]['Sentence_en']"
   ]
  },
  {
   "cell_type": "code",
   "execution_count": 10,
   "metadata": {
    "ExecuteTime": {
     "end_time": "2020-06-01T06:54:57.617118Z",
     "start_time": "2020-06-01T06:54:57.595139Z"
    }
   },
   "outputs": [],
   "source": [
    "# English\n",
    "# 1. Tokenize Sentence -> Words\n",
    "# 2. Remove punctuation and stopwords\n",
    "# 3. Stemming Words\n",
    "\n",
    "\n",
    "\n",
    "en_stopwords=stopwords.words(\"english\")+[\"'s\"]  #chinese de is stopword\n",
    "stemmer=PorterStemmer()\n",
    "punctuation = punctuation +'–’“”'\n",
    "\n",
    "def en_proc(sentence):\n",
    "    word_list = word_tokenize(sentence)\n",
    "#    word_list = [w for w in word_list if w.lower() not in en_stopwords]\n",
    "#    word_list = [w.translate(str.maketrans('', '', punctuation)) for w in word_list]\n",
    "    bow_list = [stemmer.stem(w.lower()) for w in word_list if w.lower() not in en_stopwords and w not in punctuation]\n",
    "    \n",
    "    return bow_list\n",
    "\n",
    "\n",
    "#en_list_token = [word_tokenize(s) for s in en_list]\n",
    "#en_list_proc = []\n",
    "#for s in en_list_token:\n",
    "   # en_list_proc.append([stemmer.stem(w.lower()) for w in s if w.lower() not in en_stopwords and w not in punctuation])\n",
    "\n",
    "# Chinese\n",
    "# 1. Segmentation\n",
    "# 2. Remove punctuation and stopwords\n",
    "\n",
    "import re\n",
    "with open('../zh_stopwords.txt','r', encoding='utf-8') as file:\n",
    "    zh_stopwords = file.read()\n",
    "zh_stopwords = re.sub('[ A-Za-z]+\\n', ',', zh_stopwords)\n",
    "zh_stopwords = zh_stopwords.translate(str.maketrans('', '', '\\n')).split(',') \n",
    "zh_stopwords = list(filter(None, zh_stopwords))\n",
    "punctuation = punctuation + '，「」。！？《》【】、'\n",
    "\n",
    "\n",
    "def zh_proc(sentence):\n",
    "    bow_list = [w for w in jieba.cut(sentence) if w not in zh_stopwords and w not in punctuation]\n",
    "    return bow_list\n",
    "\n",
    "\n",
    "\n",
    "#zh_list_proc = []\n",
    "#for s in zh_list:\n",
    "   # zh_list_proc.append([w for w in jieba.cut(s) if w not in zh_stopwords and w not in punctuation])\n"
   ]
  },
  {
   "cell_type": "code",
   "execution_count": 11,
   "metadata": {
    "ExecuteTime": {
     "end_time": "2020-06-01T06:55:06.260506Z",
     "start_time": "2020-06-01T06:55:05.335737Z"
    }
   },
   "outputs": [
    {
     "name": "stderr",
     "output_type": "stream",
     "text": [
      "Building prefix dict from the default dictionary ...\n",
      "Loading model from cache C:\\Users\\gabri\\AppData\\Local\\Temp\\jieba.cache\n",
      "Loading model cost 0.911 seconds.\n",
      "Prefix dict has been built successfully.\n"
     ]
    },
    {
     "data": {
      "text/plain": [
       "['1989', '年', '以前', '全球', '经济', '包含', '大约', '8', '亿到', '10', '亿', '人口']"
      ]
     },
     "execution_count": 11,
     "metadata": {},
     "output_type": "execute_result"
    }
   ],
   "source": [
    "text = \"1989年以前，全球经济包含大约8亿到10亿人口。\"\n",
    "zh_proc(text)"
   ]
  },
  {
   "cell_type": "code",
   "execution_count": 12,
   "metadata": {
    "ExecuteTime": {
     "end_time": "2020-06-01T06:55:10.654497Z",
     "start_time": "2020-06-01T06:55:10.649551Z"
    }
   },
   "outputs": [],
   "source": [
    "def gen_sentence(df,column,proc=en_proc,l=None):\n",
    "    i=0\n",
    "    output = []\n",
    "    l= len(df.index) if not l else int(l)\n",
    "    while i < l:\n",
    "        output.append(proc(df.iloc[i][column]))\n",
    "        i+=1\n",
    "    return output\n",
    "\n",
    "## Generator cannot pass to word2vec"
   ]
  },
  {
   "cell_type": "code",
   "execution_count": 33,
   "metadata": {
    "ExecuteTime": {
     "end_time": "2020-06-01T08:20:11.840245Z",
     "start_time": "2020-06-01T08:18:45.463656Z"
    }
   },
   "outputs": [],
   "source": [
    "zh_model = Word2Vec(gen_sentence(zh_df,'Sentence_zh',zh_proc), min_count=1, size=300)\n",
    "zh_model.save('word2vec/zh_model.bin')"
   ]
  },
  {
   "cell_type": "code",
   "execution_count": 34,
   "metadata": {
    "ExecuteTime": {
     "end_time": "2020-06-01T08:20:13.146145Z",
     "start_time": "2020-06-01T08:20:11.842205Z"
    }
   },
   "outputs": [],
   "source": [
    "zh_model = Word2Vec.load('word2vec/zh_model.bin')"
   ]
  },
  {
   "cell_type": "code",
   "execution_count": 45,
   "metadata": {
    "ExecuteTime": {
     "end_time": "2020-06-01T08:28:00.006432Z",
     "start_time": "2020-06-01T08:27:59.445482Z"
    }
   },
   "outputs": [],
   "source": [
    "zh_vectors = zh_model.wv\n",
    "zh_vec_file = get_tmpfile(\"zh_vectors.kv\")\n",
    "#zh_vectors.save(zh_vec_file)\n",
    "zh_vectors = KeyedVectors.load(zh_vec_file)\n",
    "\n",
    "zh_vectors.init_sims(replace=True) #normalize all\n",
    "#zh_vectors.word_vec(\"法律\", use_norm=True) # if didn't replace with normed vectors"
   ]
  },
  {
   "cell_type": "code",
   "execution_count": 46,
   "metadata": {
    "ExecuteTime": {
     "end_time": "2020-06-01T08:29:35.081702Z",
     "start_time": "2020-06-01T08:28:21.183434Z"
    }
   },
   "outputs": [],
   "source": [
    "#en_model = Word2Vec.load('word2vec/en_model.bin')\n",
    "en_model = Word2Vec(gen_sentence(en_df,'Sentence_en',en_proc), min_count=1, size=300)\n",
    "en_model.save('word2vec/en_model.bin')"
   ]
  },
  {
   "cell_type": "code",
   "execution_count": 51,
   "metadata": {
    "ExecuteTime": {
     "end_time": "2020-06-01T08:30:55.225272Z",
     "start_time": "2020-06-01T08:30:55.034777Z"
    }
   },
   "outputs": [],
   "source": [
    "en_vectors = en_model.wv\n",
    "en_vec_file = get_tmpfile(\"en_vectors.kv\")\n",
    "#en_vectors.save(en_vec_file)\n",
    "en_vectors = KeyedVectors.load(en_vec_file)\n",
    "en_vectors.init_sims(replace=True)"
   ]
  },
  {
   "cell_type": "code",
   "execution_count": null,
   "metadata": {},
   "outputs": [],
   "source": [
    "# Using normalized vectors not much difference, still negative \n",
    "# -> might not be enough data to train a word2vec model"
   ]
  },
  {
   "cell_type": "code",
   "execution_count": 55,
   "metadata": {
    "ExecuteTime": {
     "end_time": "2020-06-01T08:37:12.809018Z",
     "start_time": "2020-06-01T08:37:12.789130Z"
    }
   },
   "outputs": [
    {
     "data": {
      "text/plain": [
       "-0.044774767"
      ]
     },
     "execution_count": 55,
     "metadata": {},
     "output_type": "execute_result"
    }
   ],
   "source": [
    "cosine_similarity(.5*(zh_vectors.word_vec(\"面临\")+zh_vectors.word_vec(\"威胁\")),.5*(en_vectors.word_vec(\"face\")+en_vectors.word_vec(\"threat\")))"
   ]
  },
  {
   "cell_type": "code",
   "execution_count": 20,
   "metadata": {
    "ExecuteTime": {
     "end_time": "2020-06-01T07:31:02.822846Z",
     "start_time": "2020-06-01T07:31:02.702735Z"
    }
   },
   "outputs": [
    {
     "name": "stdout",
     "output_type": "stream",
     "text": [
      "[['disclosur', 'emiss', 'relat', 'data', 'cdp', 'primari', 'activ', 'qualiti', 'data', 'report', 'cdp', 'key'], ['2014', 'nearli', '2000', 'busi', 'report', 'climat', 'chang', 'data', 'cdp'], ['valu', 'cdp', 'report', 'investor', 'ngo', 'contest'], ['furthermor', 'qualiti', 'data', 'cdp', 'report', 'premis', 'question'], ['carbon', 'disclosur', 'project', 'cdp', 'attempt', 'sidestep', 'nation', 'interest', 'focus', 'individu', 'compani', 'rather', 'nation']]\n"
     ]
    }
   ],
   "source": [
    "print(gen_sentence(en_df,'Sentence_en',en_proc,5))\n"
   ]
  },
  {
   "cell_type": "code",
   "execution_count": 82,
   "metadata": {
    "ExecuteTime": {
     "end_time": "2020-05-26T08:32:23.234669Z",
     "start_time": "2020-05-26T08:32:23.228717Z"
    }
   },
   "outputs": [
    {
     "data": {
      "text/plain": [
       "[('2014,', 0.11501407623291016),\n",
       " ('premis', 0.09995618462562561),\n",
       " ('chang', 0.0796932578086853),\n",
       " ('primari', 0.07935003191232681),\n",
       " ('relat', 0.06664074957370758),\n",
       " ('valu', 0.05988314002752304),\n",
       " ('cdp.', 0.04614570736885071),\n",
       " ('compani', 0.03485778719186783),\n",
       " ('nation', 0.029505286365747452),\n",
       " ('activity,', 0.028874967247247696)]"
      ]
     },
     "execution_count": 82,
     "metadata": {},
     "output_type": "execute_result"
    }
   ],
   "source": [
    "en_model.wv.most_similar(positive=[\"data\"])"
   ]
  },
  {
   "cell_type": "code",
   "execution_count": 17,
   "metadata": {
    "ExecuteTime": {
     "end_time": "2020-05-20T10:29:20.528920Z",
     "start_time": "2020-05-20T10:29:20.525927Z"
    },
    "scrolled": true
   },
   "outputs": [],
   "source": [
    "## Feat: No. of counts a word appears in the document\n",
    "# Eg. appear once in sentence, appear once in aligned sentence of other language\n"
   ]
  },
  {
   "cell_type": "code",
   "execution_count": 94,
   "metadata": {
    "ExecuteTime": {
     "end_time": "2020-05-26T08:45:44.930262Z",
     "start_time": "2020-05-26T08:45:44.900206Z"
    }
   },
   "outputs": [
    {
     "data": {
      "text/plain": [
       "'natur'"
      ]
     },
     "execution_count": 94,
     "metadata": {},
     "output_type": "execute_result"
    }
   ],
   "source": [
    "stemmer.stem('natural')"
   ]
  },
  {
   "cell_type": "code",
   "execution_count": 95,
   "metadata": {
    "ExecuteTime": {
     "end_time": "2020-05-26T08:45:48.883597Z",
     "start_time": "2020-05-26T08:45:48.832166Z"
    }
   },
   "outputs": [
    {
     "data": {
      "text/plain": [
       "0.9862863"
      ]
     },
     "execution_count": 95,
     "metadata": {},
     "output_type": "execute_result"
    }
   ],
   "source": [
    "en_model.wv.similarity('resourc', 'natur') "
   ]
  },
  {
   "cell_type": "code",
   "execution_count": 87,
   "metadata": {
    "ExecuteTime": {
     "end_time": "2020-05-26T08:43:51.405582Z",
     "start_time": "2020-05-26T08:43:42.336374Z"
    }
   },
   "outputs": [
    {
     "data": {
      "text/plain": [
       "[('法律', 0.9858250617980957),\n",
       " ('制度', 0.9773937463760376),\n",
       " ('保障', 0.9773855209350586),\n",
       " ('公民', 0.977051854133606),\n",
       " ('税金', 0.9757312536239624),\n",
       " ('恐怖活动', 0.9750471115112305),\n",
       " ('是否', 0.9735466837882996),\n",
       " ('限制', 0.9723238945007324),\n",
       " ('作出', 0.9718997478485107),\n",
       " ('人人平等', 0.9718680381774902)]"
      ]
     },
     "execution_count": 87,
     "metadata": {},
     "output_type": "execute_result"
    }
   ],
   "source": [
    "zh_model.wv.most_similar(positive=['自由'])"
   ]
  },
  {
   "cell_type": "code",
   "execution_count": 99,
   "metadata": {
    "ExecuteTime": {
     "end_time": "2020-05-26T08:51:16.274156Z",
     "start_time": "2020-05-26T08:51:14.366971Z"
    }
   },
   "outputs": [
    {
     "data": {
      "text/plain": [
       "['1989', '年', '以前', '全球', '经济', '包含', '大约', '8', '亿到', '10', '亿', '人口']"
      ]
     },
     "execution_count": 99,
     "metadata": {},
     "output_type": "execute_result"
    }
   ],
   "source": [
    "zh_proc(new_df.iloc[0]['Sentence_zh'])"
   ]
  },
  {
   "cell_type": "code",
   "execution_count": 56,
   "metadata": {
    "ExecuteTime": {
     "end_time": "2020-06-01T08:39:43.999538Z",
     "start_time": "2020-06-01T08:39:43.868863Z"
    }
   },
   "outputs": [
    {
     "name": "stdout",
     "output_type": "stream",
     "text": [
      "Line: 0 \tSim: -0.06 \tPair: NO\n",
      "Line: 1 \tSim: -0.04 \tPair: NO\n",
      "Line: 2 \tSim: -0.03 \tPair: NO\n",
      "Line: 3 \tSim: -0.05 \tPair: NO\n",
      "Line: 4 \tSim: -0.05 \tPair: NO\n",
      "Line: 5 \tSim: -0.04 \tPair: NO\n",
      "Line: 6 \tSim: -0.1 \tPair: NO\n",
      "Line: 7 \tSim: 0.01 \tPair: NO\n",
      "Line: 8 \tSim: -0.02 \tPair: NO\n",
      "Line: 9 \tSim: -0.04 \tPair: NO\n",
      "Line: 10 \tSim: -0.05 \tPair: NO\n",
      "Line: 11 \tSim: -0.04 \tPair: NO\n",
      "Line: 12 \tSim: -0.04 \tPair: NO\n",
      "Line: 13 \tSim: -0.04 \tPair: NO\n",
      "Line: 14 \tSim: -0.07 \tPair: NO\n",
      "Line: 15 \tSim: -0.04 \tPair: NO\n",
      "Line: 16 \tSim: -0.05 \tPair: NO\n",
      "Line: 17 \tSim: -0.05 \tPair: NO\n",
      "Line: 18 \tSim: -0.07 \tPair: NO\n",
      "Line: 19 \tSim: -0.07 \tPair: NO\n",
      "Line: 20 \tSim: -0.03 \tPair: NO\n",
      "Line: 21 \tSim: -0.05 \tPair: NO\n",
      "Line: 22 \tSim: -0.03 \tPair: NO\n",
      "Line: 23 \tSim: -0.08 \tPair: NO\n",
      "Line: 24 \tSim: -0.04 \tPair: NO\n",
      "Line: 25 \tSim: -0.04 \tPair: NO\n",
      "Line: 26 \tSim: -0.07 \tPair: NO\n",
      "Line: 27 \tSim: -0.05 \tPair: NO\n",
      "Line: 28 \tSim: -0.03 \tPair: NO\n",
      "Line: 29 \tSim: -0.05 \tPair: NO\n"
     ]
    },
    {
     "data": {
      "text/plain": [
       "(7, 0.006314113, 'Success Rate:0.0%')"
      ]
     },
     "execution_count": 56,
     "metadata": {},
     "output_type": "execute_result"
    }
   ],
   "source": [
    "def sum_vector(model,sentence_list):\n",
    "    i=0\n",
    "    for word in sentence_list:\n",
    "        if i==0:\n",
    "            vector = model.wv[word]\n",
    "        else:\n",
    "            vector=vector+model.wv[word]\n",
    "        i+=1\n",
    "    return vector/(i+1)\n",
    "\n",
    "def cosine_similarity(v1,v2):\n",
    "    '''cosine_similarity(transformed_docs[2], transformed_docs[2])'''\n",
    "    ## Idk why need to np.squeeze (1,148) into (148,) shape to dot product [error: shapes not aligned]\n",
    "    ## toarray() [error: dimension mismatch]\n",
    "    \n",
    "    #print('Calculating Cosine Similarity...')\n",
    "    \n",
    "    #v1 = np.squeeze(v1.toarray())\n",
    "    #v2 = np.squeeze(v2.toarray())\n",
    "    return np.dot(v1,v2) / ( np.sqrt(np.dot(v1,v1)) * np.sqrt(np.dot(v2,v2)) )\n",
    "\n",
    "        \n",
    "def oof(n):\n",
    "    k=0\n",
    "    j=''\n",
    "    for i in range(n):\n",
    "        this_value = cosine_similarity( sum_vector(en_model,en_proc(new_df.iloc[i]['Sentence_en'])), sum_vector(zh_model,zh_proc(new_df.iloc[i]['Sentence_zh'])) )\n",
    "        if i == 0:\n",
    "            most = this_value\n",
    "            s_index = 0\n",
    "        elif most <= this_value:\n",
    "            most = this_value\n",
    "            s_index = i\n",
    "        \n",
    "        if this_value>0.5:\n",
    "            j='YES'\n",
    "            k+=1\n",
    "        else:\n",
    "            j='NO'\n",
    "        \n",
    "        print('Line:',i,'\\tSim:',round(this_value,2), '\\tPair:', j)\n",
    "        \n",
    "    return s_index,most, 'Success Rate:'+str(round(k/n*100,1))+'%'\n",
    "            \n",
    "\n",
    "    \n",
    "oof(30)"
   ]
  },
  {
   "cell_type": "code",
   "execution_count": 103,
   "metadata": {
    "ExecuteTime": {
     "end_time": "2020-05-26T08:55:52.113785Z",
     "start_time": "2020-05-26T08:55:52.102819Z"
    }
   },
   "outputs": [
    {
     "name": "stdout",
     "output_type": "stream",
     "text": [
      "['threat', 'face', 'world', 'today', 'supranational,', 'counteract', 'must', 'supranational,', 'too.'] ['今日', '全球', '面临', '威胁', '超', '民族', '必须', '采取', '超', '民族', '方式', '应对']\n"
     ]
    },
    {
     "data": {
      "text/plain": [
       "-0.004908868"
      ]
     },
     "execution_count": 103,
     "metadata": {},
     "output_type": "execute_result"
    }
   ],
   "source": [
    "print(en_proc(new_df.iloc[1]['Sentence_en']) , zh_proc(new_df.iloc[1]['Sentence_zh']))\n",
    "cosine_similarity( sum_vector(en_model,en_proc(new_df.iloc[1]['Sentence_en'])), sum_vector(zh_model,zh_proc(new_df.iloc[1]['Sentence_zh'])) )"
   ]
  },
  {
   "cell_type": "code",
   "execution_count": 105,
   "metadata": {
    "ExecuteTime": {
     "end_time": "2020-05-26T08:56:59.200894Z",
     "start_time": "2020-05-26T08:56:59.196927Z"
    }
   },
   "outputs": [
    {
     "data": {
      "text/plain": [
       "0.99819654"
      ]
     },
     "execution_count": 105,
     "metadata": {},
     "output_type": "execute_result"
    }
   ],
   "source": [
    "en_model.wv.similarity('threat', 'face') "
   ]
  },
  {
   "cell_type": "code",
   "execution_count": 107,
   "metadata": {
    "ExecuteTime": {
     "end_time": "2020-05-26T08:57:08.264790Z",
     "start_time": "2020-05-26T08:57:08.260769Z"
    }
   },
   "outputs": [
    {
     "data": {
      "text/plain": [
       "0.98876095"
      ]
     },
     "execution_count": 107,
     "metadata": {},
     "output_type": "execute_result"
    }
   ],
   "source": [
    "zh_model.wv.similarity('威胁', '面临') "
   ]
  },
  {
   "cell_type": "code",
   "execution_count": 117,
   "metadata": {
    "ExecuteTime": {
     "end_time": "2020-05-26T09:11:18.000493Z",
     "start_time": "2020-05-26T09:11:17.929959Z"
    }
   },
   "outputs": [],
   "source": [
    "zh1 = zh_model.wv['今日']+zh_model.wv['全球']+zh_model.wv['面临']+zh_model.wv['威胁']+zh_model.wv['超']+zh_model.wv['民族']+zh_model.wv['必须']+zh_model.wv['采取']+zh_model.wv['超']+zh_model.wv['民族']+zh_model.wv['方式']+zh_model.wv['应对']\n",
    "en1 = en_model.wv['threat']+en_model.wv['face']+en_model.wv['world']+en_model.wv['today']+en_model.wv['supranational,']+en_model.wv['counteract']+en_model.wv['must']+en_model.wv['supranational,']+en_model.wv['too.']"
   ]
  },
  {
   "cell_type": "code",
   "execution_count": 57,
   "metadata": {
    "ExecuteTime": {
     "end_time": "2020-06-01T08:40:48.709385Z",
     "start_time": "2020-06-01T08:40:46.804792Z"
    }
   },
   "outputs": [
    {
     "name": "stdout",
     "output_type": "stream",
     "text": [
      "0.7142857142857143\n",
      "0.7142857142857143\n"
     ]
    }
   ],
   "source": [
    "from scipy import spatial\n",
    "\n",
    "vector1 = [1, 2, 3]\n",
    "vector2 = [3, 2, 1]\n",
    "\n",
    "cs1 = 1 - spatial.distance.cosine(vector1, vector2)\n",
    "print(cs1)\n",
    "cs2 = cosine_similarity(vector1,vector2)\n",
    "print(cs2)"
   ]
  },
  {
   "cell_type": "code",
   "execution_count": 58,
   "metadata": {
    "ExecuteTime": {
     "end_time": "2020-06-01T08:40:52.042789Z",
     "start_time": "2020-06-01T08:40:51.789028Z"
    }
   },
   "outputs": [
    {
     "ename": "NameError",
     "evalue": "name 'zh1' is not defined",
     "output_type": "error",
     "traceback": [
      "\u001b[1;31m---------------------------------------------------------------------------\u001b[0m",
      "\u001b[1;31mNameError\u001b[0m                                 Traceback (most recent call last)",
      "\u001b[1;32m<ipython-input-58-b423fd2aa4d9>\u001b[0m in \u001b[0;36m<module>\u001b[1;34m\u001b[0m\n\u001b[1;32m----> 1\u001b[1;33m \u001b[0mcosine_similarity\u001b[0m\u001b[1;33m(\u001b[0m\u001b[0mzh1\u001b[0m\u001b[1;33m,\u001b[0m\u001b[0men1\u001b[0m\u001b[1;33m)\u001b[0m\u001b[1;33m\u001b[0m\u001b[1;33m\u001b[0m\u001b[0m\n\u001b[0m",
      "\u001b[1;31mNameError\u001b[0m: name 'zh1' is not defined"
     ]
    }
   ],
   "source": [
    "cosine_similarity(zh1,en1)"
   ]
  },
  {
   "cell_type": "code",
   "execution_count": 62,
   "metadata": {
    "ExecuteTime": {
     "end_time": "2020-06-01T08:43:07.536552Z",
     "start_time": "2020-06-01T08:43:07.531574Z"
    }
   },
   "outputs": [
    {
     "data": {
      "text/plain": [
       "-0.04475601"
      ]
     },
     "execution_count": 62,
     "metadata": {},
     "output_type": "execute_result"
    }
   ],
   "source": [
    "cosine_similarity(en_model.wv['threat']+en_model.wv['face'],zh_model.wv['面临']+zh_model.wv['威胁'])"
   ]
  },
  {
   "cell_type": "code",
   "execution_count": 60,
   "metadata": {
    "ExecuteTime": {
     "end_time": "2020-06-01T08:41:36.407600Z",
     "start_time": "2020-06-01T08:41:36.402610Z"
    }
   },
   "outputs": [
    {
     "data": {
      "text/plain": [
       "['ca', \"n't\", \"n't\", 'andrew']"
      ]
     },
     "execution_count": 60,
     "metadata": {},
     "output_type": "execute_result"
    }
   ],
   "source": [
    "en_proc(\"I can't don't Andrew's\")"
   ]
  },
  {
   "cell_type": "code",
   "execution_count": null,
   "metadata": {
    "ExecuteTime": {
     "end_time": "2020-05-26T09:24:38.011608Z",
     "start_time": "2020-05-26T09:24:37.488717Z"
    }
   },
   "outputs": [],
   "source": []
  },
  {
   "cell_type": "code",
   "execution_count": null,
   "metadata": {
    "ExecuteTime": {
     "end_time": "2020-05-26T09:24:55.818948Z",
     "start_time": "2020-05-26T09:24:55.753448Z"
    },
    "scrolled": false
   },
   "outputs": [],
   "source": []
  },
  {
   "cell_type": "code",
   "execution_count": null,
   "metadata": {},
   "outputs": [],
   "source": []
  }
 ],
 "metadata": {
  "kernelspec": {
   "display_name": "Python 3",
   "language": "python",
   "name": "python3"
  },
  "language_info": {
   "codemirror_mode": {
    "name": "ipython",
    "version": 3
   },
   "file_extension": ".py",
   "mimetype": "text/x-python",
   "name": "python",
   "nbconvert_exporter": "python",
   "pygments_lexer": "ipython3",
   "version": "3.7.6"
  },
  "notify_time": "5"
 },
 "nbformat": 4,
 "nbformat_minor": 4
}
