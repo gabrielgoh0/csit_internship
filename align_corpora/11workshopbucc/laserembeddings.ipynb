{
 "cells": [
  {
   "cell_type": "code",
   "execution_count": 1,
   "metadata": {
    "ExecuteTime": {
     "end_time": "2020-06-01T08:49:59.760898Z",
     "start_time": "2020-06-01T08:49:08.117958Z"
    }
   },
   "outputs": [],
   "source": [
    "## Word Embeddings ##\n",
    "# LASER Embeddings pre-trained model\n",
    "\n",
    "import pandas as pd\n",
    "import numpy as np\n",
    "import nltk\n",
    "import jieba\n",
    "from nltk.stem import PorterStemmer\n",
    "from nltk.tokenize import word_tokenize  # splits by contractions which I don't like\n",
    "from string import punctuation\n",
    "\n",
    "from laserembeddings import Laser"
   ]
  },
  {
   "cell_type": "code",
   "execution_count": 2,
   "metadata": {
    "ExecuteTime": {
     "end_time": "2020-06-01T08:50:01.170722Z",
     "start_time": "2020-06-01T08:49:59.762845Z"
    }
   },
   "outputs": [
    {
     "name": "stderr",
     "output_type": "stream",
     "text": [
      "[nltk_data] Downloading package punkt to\n",
      "[nltk_data]     C:\\Users\\gabri\\AppData\\Roaming\\nltk_data...\n",
      "[nltk_data]   Package punkt is already up-to-date!\n",
      "[nltk_data] Downloading package stopwords to\n",
      "[nltk_data]     C:\\Users\\gabri\\AppData\\Roaming\\nltk_data...\n",
      "[nltk_data]   Package stopwords is already up-to-date!\n"
     ]
    }
   ],
   "source": [
    "nltk.download('punkt')\n",
    "nltk.download('stopwords')\n",
    "from nltk.corpus import stopwords"
   ]
  },
  {
   "cell_type": "code",
   "execution_count": 3,
   "metadata": {
    "ExecuteTime": {
     "end_time": "2020-06-01T08:50:02.212829Z",
     "start_time": "2020-06-01T08:50:01.172720Z"
    }
   },
   "outputs": [],
   "source": [
    "zh_file = \"zh-en.training.zh\"\n",
    "en_file = \"zh-en.training.en\"\n",
    "\n",
    "zh_df = pd.read_csv(zh_file, names=['ID_zh','Sentence_zh'], sep='\\t')\n",
    "en_df = pd.read_csv(en_file, names=['ID_en','Sentence_en'], sep='\\t')"
   ]
  },
  {
   "cell_type": "code",
   "execution_count": 4,
   "metadata": {
    "ExecuteTime": {
     "end_time": "2020-06-01T08:50:02.620738Z",
     "start_time": "2020-06-01T08:50:02.215637Z"
    }
   },
   "outputs": [
    {
     "data": {
      "text/html": [
       "<div>\n",
       "<style scoped>\n",
       "    .dataframe tbody tr th:only-of-type {\n",
       "        vertical-align: middle;\n",
       "    }\n",
       "\n",
       "    .dataframe tbody tr th {\n",
       "        vertical-align: top;\n",
       "    }\n",
       "\n",
       "    .dataframe thead th {\n",
       "        text-align: right;\n",
       "    }\n",
       "</style>\n",
       "<table border=\"1\" class=\"dataframe\">\n",
       "  <thead>\n",
       "    <tr style=\"text-align: right;\">\n",
       "      <th></th>\n",
       "      <th>ID_zh</th>\n",
       "      <th>ID_en</th>\n",
       "      <th>Sentence_zh</th>\n",
       "      <th>Sentence_en</th>\n",
       "    </tr>\n",
       "  </thead>\n",
       "  <tbody>\n",
       "    <tr>\n",
       "      <th>0</th>\n",
       "      <td>zh-000000033</td>\n",
       "      <td>en-000005983</td>\n",
       "      <td>1989年以前，全球经济包含大约8亿到10亿人口。</td>\n",
       "      <td>Until 1989, the global market encompassed betw...</td>\n",
       "    </tr>\n",
       "    <tr>\n",
       "      <th>1</th>\n",
       "      <td>zh-000000231</td>\n",
       "      <td>en-000047360</td>\n",
       "      <td>今日全球面临的威胁是超民族的，因此也必须采取超民族的方式来应对。</td>\n",
       "      <td>The threats facing the world today are suprana...</td>\n",
       "    </tr>\n",
       "    <tr>\n",
       "      <th>2</th>\n",
       "      <td>zh-000000272</td>\n",
       "      <td>en-000027140</td>\n",
       "      <td>欧盟移民政策的硬伤还有一个不太显著的方面。</td>\n",
       "      <td>There is another, less obvious, reason why the...</td>\n",
       "    </tr>\n",
       "    <tr>\n",
       "      <th>3</th>\n",
       "      <td>zh-000000438</td>\n",
       "      <td>en-000065621</td>\n",
       "      <td>只有让民粹主义服务于自由主义改革，政府才能取得长久的利益。</td>\n",
       "      <td>Only if populism is put at the service of libe...</td>\n",
       "    </tr>\n",
       "    <tr>\n",
       "      <th>4</th>\n",
       "      <td>zh-000000639</td>\n",
       "      <td>en-000005169</td>\n",
       "      <td>但社会民主派必须理解为何示威的发展会独立于现有的有组织中左翼政治。</td>\n",
       "      <td>But social democrats must understand why the p...</td>\n",
       "    </tr>\n",
       "    <tr>\n",
       "      <th>...</th>\n",
       "      <td>...</td>\n",
       "      <td>...</td>\n",
       "      <td>...</td>\n",
       "      <td>...</td>\n",
       "    </tr>\n",
       "    <tr>\n",
       "      <th>1848</th>\n",
       "      <td>zh-000094590</td>\n",
       "      <td>en-000013258</td>\n",
       "      <td>事件发生后当局在尚未进行调查的情况下就匆匆掩埋了出事列车残骸。</td>\n",
       "      <td>The wrecked body of the ruined train was burie...</td>\n",
       "    </tr>\n",
       "    <tr>\n",
       "      <th>1849</th>\n",
       "      <td>zh-000094593</td>\n",
       "      <td>en-000061419</td>\n",
       "      <td>北方拥有丰富的自然资源，就连电力也是从北方输送到南方。</td>\n",
       "      <td>Natural resources were abundant in the North, ...</td>\n",
       "    </tr>\n",
       "    <tr>\n",
       "      <th>1850</th>\n",
       "      <td>zh-000094607</td>\n",
       "      <td>en-000039373</td>\n",
       "      <td>如果利率为3%，那么年税收额必须增加15亿美元。</td>\n",
       "      <td>If it is 3%, the required increase in annual t...</td>\n",
       "    </tr>\n",
       "    <tr>\n",
       "      <th>1851</th>\n",
       "      <td>zh-000094611</td>\n",
       "      <td>en-000003807</td>\n",
       "      <td>五年前，叙利亚北部边陲城镇享受着土耳其高速经济增长的红利。</td>\n",
       "      <td>Five years ago, Syria’s northern border towns ...</td>\n",
       "    </tr>\n",
       "    <tr>\n",
       "      <th>1852</th>\n",
       "      <td>zh-000094633</td>\n",
       "      <td>en-000083972</td>\n",
       "      <td>在过去的一个世纪中，我们的世界发生了翻天覆地的变化——技术是其中的重要原因。</td>\n",
       "      <td>Our world has changed vastly over the past cen...</td>\n",
       "    </tr>\n",
       "  </tbody>\n",
       "</table>\n",
       "<p>1853 rows × 4 columns</p>\n",
       "</div>"
      ],
      "text/plain": [
       "             ID_zh         ID_en                             Sentence_zh  \\\n",
       "0     zh-000000033  en-000005983               1989年以前，全球经济包含大约8亿到10亿人口。   \n",
       "1     zh-000000231  en-000047360        今日全球面临的威胁是超民族的，因此也必须采取超民族的方式来应对。   \n",
       "2     zh-000000272  en-000027140                   欧盟移民政策的硬伤还有一个不太显著的方面。   \n",
       "3     zh-000000438  en-000065621           只有让民粹主义服务于自由主义改革，政府才能取得长久的利益。   \n",
       "4     zh-000000639  en-000005169       但社会民主派必须理解为何示威的发展会独立于现有的有组织中左翼政治。   \n",
       "...            ...           ...                                     ...   \n",
       "1848  zh-000094590  en-000013258         事件发生后当局在尚未进行调查的情况下就匆匆掩埋了出事列车残骸。   \n",
       "1849  zh-000094593  en-000061419             北方拥有丰富的自然资源，就连电力也是从北方输送到南方。   \n",
       "1850  zh-000094607  en-000039373                如果利率为3%，那么年税收额必须增加15亿美元。   \n",
       "1851  zh-000094611  en-000003807           五年前，叙利亚北部边陲城镇享受着土耳其高速经济增长的红利。   \n",
       "1852  zh-000094633  en-000083972  在过去的一个世纪中，我们的世界发生了翻天覆地的变化——技术是其中的重要原因。   \n",
       "\n",
       "                                            Sentence_en  \n",
       "0     Until 1989, the global market encompassed betw...  \n",
       "1     The threats facing the world today are suprana...  \n",
       "2     There is another, less obvious, reason why the...  \n",
       "3     Only if populism is put at the service of libe...  \n",
       "4     But social democrats must understand why the p...  \n",
       "...                                                 ...  \n",
       "1848  The wrecked body of the ruined train was burie...  \n",
       "1849  Natural resources were abundant in the North, ...  \n",
       "1850  If it is 3%, the required increase in annual t...  \n",
       "1851  Five years ago, Syria’s northern border towns ...  \n",
       "1852  Our world has changed vastly over the past cen...  \n",
       "\n",
       "[1853 rows x 4 columns]"
      ]
     },
     "execution_count": 4,
     "metadata": {},
     "output_type": "execute_result"
    }
   ],
   "source": [
    "pair_file = \"zh-en.training.gold\"\n",
    "pair_df = pd.read_csv(pair_file, names=['ID_zh','ID_en'], sep='\\t')\n",
    "\n",
    "new_df = pair_df.merge(zh_df, 'inner', 'ID_zh')\n",
    "new_df = new_df.merge(en_df, 'inner', 'ID_en')\n",
    "new_df"
   ]
  },
  {
   "cell_type": "code",
   "execution_count": 6,
   "metadata": {
    "ExecuteTime": {
     "end_time": "2020-06-01T08:50:02.828413Z",
     "start_time": "2020-06-01T08:50:02.629927Z"
    }
   },
   "outputs": [],
   "source": [
    "# English\n",
    "# 1. Tokenize Sentence -> Words\n",
    "# 2. Remove punctuation and stopwords\n",
    "# 3. Stemming Words\n",
    "\n",
    "\n",
    "\n",
    "en_stopwords=stopwords.words(\"english\")+[\"'s\"]  #chinese de is stopword\n",
    "stemmer=PorterStemmer()\n",
    "punctuation = punctuation +'–’“”'\n",
    "\n",
    "def en_proc(sentence):\n",
    "    word_list = word_tokenize(sentence)\n",
    "#    word_list = [w for w in word_list if w.lower() not in en_stopwords]\n",
    "#    word_list = [w.translate(str.maketrans('', '', punctuation)) for w in word_list]\n",
    "    bow_list = [stemmer.stem(w.lower()) for w in word_list if w.lower() not in en_stopwords and w not in punctuation]\n",
    "    \n",
    "    return bow_list\n",
    "\n",
    "\n",
    "#en_list_token = [word_tokenize(s) for s in en_list]\n",
    "#en_list_proc = []\n",
    "#for s in en_list_token:\n",
    "   # en_list_proc.append([stemmer.stem(w.lower()) for w in s if w.lower() not in en_stopwords and w not in punctuation])\n",
    "\n",
    "# Chinese\n",
    "# 1. Segmentation\n",
    "# 2. Remove punctuation and stopwords\n",
    "\n",
    "import re\n",
    "with open('../zh_stopwords.txt','r', encoding='utf-8') as file:\n",
    "    zh_stopwords = file.read()\n",
    "zh_stopwords = re.sub('[ A-Za-z]+\\n', ',', zh_stopwords)\n",
    "zh_stopwords = zh_stopwords.translate(str.maketrans('', '', '\\n')).split(',') \n",
    "zh_stopwords = list(filter(None, zh_stopwords))\n",
    "punctuation = punctuation + '，「」。！？《》【】、'\n",
    "\n",
    "\n",
    "def zh_proc(sentence):\n",
    "    bow_list = [w for w in jieba.cut(sentence) if w not in zh_stopwords and w not in punctuation]\n",
    "    return bow_list\n",
    "\n",
    "\n",
    "\n",
    "#zh_list_proc = []\n",
    "#for s in zh_list:\n",
    "   # zh_list_proc.append([w for w in jieba.cut(s) if w not in zh_stopwords and w not in punctuation])\n"
   ]
  },
  {
   "cell_type": "code",
   "execution_count": 11,
   "metadata": {
    "ExecuteTime": {
     "end_time": "2020-06-01T09:00:41.297986Z",
     "start_time": "2020-06-01T09:00:37.754144Z"
    }
   },
   "outputs": [],
   "source": [
    "laser = Laser()"
   ]
  },
  {
   "cell_type": "code",
   "execution_count": 48,
   "metadata": {
    "ExecuteTime": {
     "end_time": "2020-06-01T09:37:37.090110Z",
     "start_time": "2020-06-01T09:37:30.245862Z"
    }
   },
   "outputs": [
    {
     "name": "stdout",
     "output_type": "stream",
     "text": [
      "Line: 0 \tSim: 0.84 \tPair: YES\n",
      "Line: 1 \tSim: 0.7 \tPair: YES\n",
      "Line: 2 \tSim: 0.61 \tPair: NO\n",
      "Line: 3 \tSim: 0.76 \tPair: YES\n",
      "Line: 4 \tSim: 0.82 \tPair: YES\n",
      "Line: 5 \tSim: 0.81 \tPair: YES\n",
      "Line: 6 \tSim: 0.77 \tPair: YES\n",
      "Line: 7 \tSim: 0.73 \tPair: YES\n",
      "Line: 8 \tSim: 0.74 \tPair: YES\n",
      "Line: 9 \tSim: 0.58 \tPair: NO\n",
      "Line: 10 \tSim: 0.71 \tPair: YES\n",
      "Line: 11 \tSim: 0.71 \tPair: YES\n",
      "Line: 12 \tSim: 0.69 \tPair: NO\n",
      "Line: 13 \tSim: 0.72 \tPair: YES\n",
      "Line: 14 \tSim: 0.75 \tPair: YES\n",
      "Line: 15 \tSim: 0.76 \tPair: YES\n",
      "Line: 16 \tSim: 0.68 \tPair: NO\n",
      "Line: 17 \tSim: 0.78 \tPair: YES\n",
      "Line: 18 \tSim: 0.78 \tPair: YES\n",
      "Line: 19 \tSim: 0.79 \tPair: YES\n",
      "Line: 20 \tSim: 0.79 \tPair: YES\n",
      "Line: 21 \tSim: 0.79 \tPair: YES\n",
      "Line: 22 \tSim: 0.69 \tPair: NO\n",
      "Line: 23 \tSim: 0.69 \tPair: NO\n",
      "Line: 24 \tSim: 0.77 \tPair: YES\n",
      "Line: 25 \tSim: 0.7 \tPair: YES\n",
      "Line: 26 \tSim: 0.77 \tPair: YES\n",
      "Line: 27 \tSim: 0.72 \tPair: YES\n",
      "Line: 28 \tSim: 0.75 \tPair: YES\n",
      "Line: 29 \tSim: 0.73 \tPair: YES\n",
      "Line: 30 \tSim: 0.71 \tPair: YES\n",
      "Line: 31 \tSim: 0.84 \tPair: YES\n",
      "Line: 32 \tSim: 0.79 \tPair: YES\n",
      "Line: 33 \tSim: 0.74 \tPair: YES\n",
      "Line: 34 \tSim: 0.75 \tPair: YES\n",
      "Line: 35 \tSim: 0.72 \tPair: YES\n",
      "Line: 36 \tSim: 0.82 \tPair: YES\n",
      "Line: 37 \tSim: 0.79 \tPair: YES\n",
      "Line: 38 \tSim: 0.69 \tPair: NO\n",
      "Line: 39 \tSim: 0.73 \tPair: YES\n",
      "Line: 40 \tSim: 0.72 \tPair: YES\n",
      "Line: 41 \tSim: 0.79 \tPair: YES\n",
      "Line: 42 \tSim: 0.66 \tPair: NO\n",
      "Line: 43 \tSim: 0.79 \tPair: YES\n",
      "Line: 44 \tSim: 0.78 \tPair: YES\n",
      "Line: 45 \tSim: 0.73 \tPair: YES\n",
      "Line: 46 \tSim: 0.78 \tPair: YES\n",
      "Line: 47 \tSim: 0.83 \tPair: YES\n",
      "Line: 48 \tSim: 0.77 \tPair: YES\n",
      "Line: 49 \tSim: 0.64 \tPair: NO\n"
     ]
    },
    {
     "data": {
      "text/plain": [
       "(31, 0.843045, 'Success Rate:82.0%')"
      ]
     },
     "execution_count": 48,
     "metadata": {},
     "output_type": "execute_result"
    }
   ],
   "source": [
    "def get_vector(sentence,lang=\"en\",proc=True):\n",
    "    if proc==True:\n",
    "        if lang == \"en\":\n",
    "            s = ' '.join(en_proc(sentence))\n",
    "        elif lang == \"zh\":\n",
    "            s = ' '.join(zh_proc(sentence))\n",
    "        else:\n",
    "            print('No proccessing method for this language.')\n",
    "    else:\n",
    "        s = sentence\n",
    "    return laser.embed_sentences(s, lang=[lang])\n",
    "\n",
    "\n",
    "def cosine_similarity(v1,v2):\n",
    "    '''cosine_similarity(transformed_docs[2], transformed_docs[2])'''\n",
    "    ## Idk why need to np.squeeze (1,148) into (148,) shape to dot product [error: shapes not aligned]\n",
    "    ## toarray() [error: dimension mismatch] v1.toarray()v2.toarray()\n",
    "    \n",
    "    #print('Calculating Cosine Similarity...')\n",
    "    \n",
    "    v1 = np.squeeze(v1)\n",
    "    v2 = np.squeeze(v2)\n",
    "    return np.dot(v1,v2) / ( np.sqrt(np.dot(v1,v1)) * np.sqrt(np.dot(v2,v2)) )\n",
    "\n",
    "        \n",
    "def test(n, x=0):\n",
    "    k=0\n",
    "    j=''\n",
    "    for i in range(x, n):\n",
    "        this_value = cosine_similarity( get_vector(new_df.iloc[i]['Sentence_en']), get_vector(new_df.iloc[i]['Sentence_zh'],lang=\"zh\") )\n",
    "        if i == x:\n",
    "            most = this_value\n",
    "            s_index = 0\n",
    "        elif most <= this_value:\n",
    "            most = this_value\n",
    "            s_index = i\n",
    "        \n",
    "        if this_value>0.7:\n",
    "            j='YES'\n",
    "            k+=1\n",
    "        else:\n",
    "            j='NO'\n",
    "        \n",
    "        print('Line:',i,'\\tSim:',round(this_value,2), '\\tPair:', j)\n",
    "        \n",
    "    return s_index,most, 'Success Rate:'+str(round(k/(n-x)*100,1))+'%'\n",
    "            \n",
    "\n",
    "    \n",
    "test(50)"
   ]
  },
  {
   "cell_type": "code",
   "execution_count": 40,
   "metadata": {
    "ExecuteTime": {
     "end_time": "2020-06-01T09:27:42.254653Z",
     "start_time": "2020-06-01T09:27:36.114552Z"
    }
   },
   "outputs": [
    {
     "name": "stdout",
     "output_type": "stream",
     "text": [
      "Line EN: 1048 \tLine ZH: 956 \tSim: 0.6 \tPair: NO\n",
      "Line EN: 583 \tLine ZH: 582 \tSim: 0.54 \tPair: NO\n",
      "Line EN: 298 \tLine ZH: 664 \tSim: 0.58 \tPair: NO\n",
      "Line EN: 267 \tLine ZH: 1709 \tSim: 0.5 \tPair: NO\n",
      "Line EN: 1300 \tLine ZH: 421 \tSim: 0.59 \tPair: NO\n",
      "Line EN: 140 \tLine ZH: 1055 \tSim: 0.48 \tPair: NO\n",
      "Line EN: 1403 \tLine ZH: 1333 \tSim: 0.57 \tPair: NO\n",
      "Line EN: 1734 \tLine ZH: 1255 \tSim: 0.52 \tPair: NO\n",
      "Line EN: 990 \tLine ZH: 1525 \tSim: 0.47 \tPair: NO\n",
      "Line EN: 1106 \tLine ZH: 491 \tSim: 0.49 \tPair: NO\n",
      "Line EN: 1714 \tLine ZH: 1173 \tSim: 0.5 \tPair: NO\n",
      "Line EN: 1328 \tLine ZH: 1212 \tSim: 0.54 \tPair: NO\n",
      "Line EN: 66 \tLine ZH: 179 \tSim: 0.55 \tPair: NO\n",
      "Line EN: 1797 \tLine ZH: 1196 \tSim: 0.48 \tPair: NO\n",
      "Line EN: 166 \tLine ZH: 772 \tSim: 0.57 \tPair: NO\n",
      "Line EN: 1051 \tLine ZH: 1598 \tSim: 0.6 \tPair: NO\n",
      "Line EN: 506 \tLine ZH: 1737 \tSim: 0.55 \tPair: NO\n",
      "Line EN: 157 \tLine ZH: 655 \tSim: 0.55 \tPair: NO\n",
      "Line EN: 0 \tLine ZH: 811 \tSim: 0.58 \tPair: NO\n",
      "Line EN: 852 \tLine ZH: 80 \tSim: 0.59 \tPair: NO\n",
      "Line EN: 1306 \tLine ZH: 789 \tSim: 0.5 \tPair: NO\n",
      "Line EN: 1138 \tLine ZH: 1633 \tSim: 0.55 \tPair: NO\n",
      "Line EN: 155 \tLine ZH: 187 \tSim: 0.65 \tPair: NO\n",
      "Line EN: 1080 \tLine ZH: 1784 \tSim: 0.52 \tPair: NO\n",
      "Line EN: 1243 \tLine ZH: 782 \tSim: 0.51 \tPair: NO\n",
      "Line EN: 473 \tLine ZH: 1238 \tSim: 0.59 \tPair: NO\n",
      "Line EN: 574 \tLine ZH: 1019 \tSim: 0.56 \tPair: NO\n",
      "Line EN: 1553 \tLine ZH: 1722 \tSim: 0.61 \tPair: NO\n",
      "Line EN: 963 \tLine ZH: 1080 \tSim: 0.54 \tPair: NO\n",
      "Line EN: 775 \tLine ZH: 498 \tSim: 0.53 \tPair: NO\n",
      "Line EN: 1243 \tLine ZH: 636 \tSim: 0.5 \tPair: NO\n",
      "Line EN: 782 \tLine ZH: 681 \tSim: 0.59 \tPair: NO\n",
      "Line EN: 866 \tLine ZH: 1163 \tSim: 0.52 \tPair: NO\n",
      "Line EN: 1687 \tLine ZH: 1401 \tSim: 0.55 \tPair: NO\n",
      "Line EN: 841 \tLine ZH: 96 \tSim: 0.53 \tPair: NO\n",
      "Line EN: 841 \tLine ZH: 1746 \tSim: 0.55 \tPair: NO\n",
      "Line EN: 1721 \tLine ZH: 1528 \tSim: 0.6 \tPair: NO\n",
      "Line EN: 543 \tLine ZH: 931 \tSim: 0.54 \tPair: NO\n",
      "Line EN: 1669 \tLine ZH: 1329 \tSim: 0.52 \tPair: NO\n",
      "Line EN: 1412 \tLine ZH: 223 \tSim: 0.46 \tPair: NO\n",
      "Line EN: 307 \tLine ZH: 738 \tSim: 0.57 \tPair: NO\n",
      "Line EN: 1009 \tLine ZH: 811 \tSim: 0.51 \tPair: NO\n",
      "Line EN: 152 \tLine ZH: 705 \tSim: 0.55 \tPair: NO\n",
      "Line EN: 895 \tLine ZH: 1798 \tSim: 0.45 \tPair: NO\n",
      "Line EN: 1619 \tLine ZH: 361 \tSim: 0.5 \tPair: NO\n",
      "Line EN: 327 \tLine ZH: 633 \tSim: 0.56 \tPair: NO\n",
      "Line EN: 656 \tLine ZH: 939 \tSim: 0.4 \tPair: NO\n",
      "Line EN: 734 \tLine ZH: 593 \tSim: 0.48 \tPair: NO\n",
      "Line EN: 1231 \tLine ZH: 244 \tSim: 0.47 \tPair: NO\n",
      "Line EN: 1811 \tLine ZH: 1529 \tSim: 0.62 \tPair: NO\n"
     ]
    }
   ],
   "source": [
    "from random import randrange\n",
    "\n",
    "t = 50\n",
    "n = 0\n",
    "\n",
    "while t > n:\n",
    "    x = randrange(1853)\n",
    "    y = randrange(1853)\n",
    "    if x != y:\n",
    "        z = cosine_similarity( get_vector(new_df.iloc[x]['Sentence_en']), get_vector(new_df.iloc[y]['Sentence_zh'],lang=\"zh\") )\n",
    "        zz = 'YES' if z>0.7 else 'NO'\n",
    "    \n",
    "        print('Line EN:',x,'\\tLine ZH:',y,'\\tSim:',round(z,2), '\\tPair:', zz)\n",
    "    n+=1"
   ]
  },
  {
   "cell_type": "code",
   "execution_count": 36,
   "metadata": {
    "ExecuteTime": {
     "end_time": "2020-06-01T09:24:31.863089Z",
     "start_time": "2020-06-01T09:24:31.858101Z"
    }
   },
   "outputs": [
    {
     "name": "stdout",
     "output_type": "stream",
     "text": [
      "Millions of people around the world will live, or die, depending on what these governments decide in December. \t 各国政府在11月的决定将影响数百万人的生死。\n"
     ]
    }
   ],
   "source": [
    "# Setting requirement to 0.7 similarity to exclude false positives\n",
    "# Line 9 is a problem, similarity close to non-pair sentences\n",
    "print(new_df.iloc[9]['Sentence_en'],'\\t',new_df.iloc[9]['Sentence_zh'])"
   ]
  },
  {
   "cell_type": "code",
   "execution_count": 49,
   "metadata": {
    "ExecuteTime": {
     "end_time": "2020-06-01T09:37:48.001179Z",
     "start_time": "2020-06-01T09:37:39.615879Z"
    }
   },
   "outputs": [
    {
     "name": "stdout",
     "output_type": "stream",
     "text": [
      "Line: 0 \tSim: 0.9 \tPair: YES\n",
      "Line: 1 \tSim: 0.85 \tPair: YES\n",
      "Line: 2 \tSim: 0.74 \tPair: YES\n",
      "Line: 3 \tSim: 0.87 \tPair: YES\n",
      "Line: 4 \tSim: 0.88 \tPair: YES\n",
      "Line: 5 \tSim: 0.87 \tPair: YES\n",
      "Line: 6 \tSim: 0.86 \tPair: YES\n",
      "Line: 7 \tSim: 0.87 \tPair: YES\n",
      "Line: 8 \tSim: 0.82 \tPair: YES\n",
      "Line: 9 \tSim: 0.67 \tPair: NO\n",
      "Line: 10 \tSim: 0.93 \tPair: YES\n",
      "Line: 11 \tSim: 0.83 \tPair: YES\n",
      "Line: 12 \tSim: 0.81 \tPair: YES\n",
      "Line: 13 \tSim: 0.89 \tPair: YES\n",
      "Line: 14 \tSim: 0.86 \tPair: YES\n",
      "Line: 15 \tSim: 0.88 \tPair: YES\n",
      "Line: 16 \tSim: 0.86 \tPair: YES\n",
      "Line: 17 \tSim: 0.82 \tPair: YES\n",
      "Line: 18 \tSim: 0.89 \tPair: YES\n",
      "Line: 19 \tSim: 0.9 \tPair: YES\n",
      "Line: 20 \tSim: 0.89 \tPair: YES\n",
      "Line: 21 \tSim: 0.84 \tPair: YES\n",
      "Line: 22 \tSim: 0.86 \tPair: YES\n",
      "Line: 23 \tSim: 0.93 \tPair: YES\n",
      "Line: 24 \tSim: 0.9 \tPair: YES\n",
      "Line: 25 \tSim: 0.88 \tPair: YES\n",
      "Line: 26 \tSim: 0.88 \tPair: YES\n",
      "Line: 27 \tSim: 0.83 \tPair: YES\n",
      "Line: 28 \tSim: 0.92 \tPair: YES\n",
      "Line: 29 \tSim: 0.91 \tPair: YES\n",
      "Line: 30 \tSim: 0.84 \tPair: YES\n",
      "Line: 31 \tSim: 0.92 \tPair: YES\n",
      "Line: 32 \tSim: 0.86 \tPair: YES\n",
      "Line: 33 \tSim: 0.86 \tPair: YES\n",
      "Line: 34 \tSim: 0.9 \tPair: YES\n",
      "Line: 35 \tSim: 0.91 \tPair: YES\n",
      "Line: 36 \tSim: 0.94 \tPair: YES\n",
      "Line: 37 \tSim: 0.75 \tPair: YES\n",
      "Line: 38 \tSim: 0.8 \tPair: YES\n",
      "Line: 39 \tSim: 0.89 \tPair: YES\n",
      "Line: 40 \tSim: 0.93 \tPair: YES\n",
      "Line: 41 \tSim: 0.92 \tPair: YES\n",
      "Line: 42 \tSim: 0.78 \tPair: YES\n",
      "Line: 43 \tSim: 0.9 \tPair: YES\n",
      "Line: 44 \tSim: 0.88 \tPair: YES\n",
      "Line: 45 \tSim: 0.89 \tPair: YES\n",
      "Line: 46 \tSim: 0.88 \tPair: YES\n",
      "Line: 47 \tSim: 0.9 \tPair: YES\n",
      "Line: 48 \tSim: 0.86 \tPair: YES\n",
      "Line: 49 \tSim: 0.79 \tPair: YES\n"
     ]
    },
    {
     "data": {
      "text/plain": [
       "(36, 0.9389751, 'Success Rate:98.0%')"
      ]
     },
     "execution_count": 49,
     "metadata": {},
     "output_type": "execute_result"
    }
   ],
   "source": [
    "# Testing without proccessing text\n",
    "\n",
    "def test_no_proc(n, x=0):\n",
    "    k=0\n",
    "    j=''\n",
    "    for i in range(x, n):\n",
    "        this_value = cosine_similarity( get_vector(new_df.iloc[i]['Sentence_en'], proc=False), get_vector(new_df.iloc[i]['Sentence_zh'],lang=\"zh\",proc=False) )\n",
    "        if i == x:\n",
    "            most = this_value\n",
    "            s_index = 0\n",
    "        elif most <= this_value:\n",
    "            most = this_value\n",
    "            s_index = i\n",
    "        \n",
    "        if this_value>0.7:\n",
    "            j='YES'\n",
    "            k+=1\n",
    "        else:\n",
    "            j='NO'\n",
    "        \n",
    "        print('Line:',i,'\\tSim:',round(this_value,2), '\\tPair:', j)\n",
    "        \n",
    "    return s_index,most, 'Success Rate:'+str(round(k/(n-x)*100,1))+'%'\n",
    "            \n",
    "\n",
    "    \n",
    "test_no_proc(50)"
   ]
  },
  {
   "cell_type": "code",
   "execution_count": 46,
   "metadata": {
    "ExecuteTime": {
     "end_time": "2020-06-01T09:36:54.186949Z",
     "start_time": "2020-06-01T09:36:46.534831Z"
    }
   },
   "outputs": [
    {
     "name": "stdout",
     "output_type": "stream",
     "text": [
      "Line EN: 463 \tLine ZH: 724 \tSim: 0.54 \tPair: NO\n",
      "Line EN: 749 \tLine ZH: 1125 \tSim: 0.52 \tPair: NO\n",
      "Line EN: 996 \tLine ZH: 1843 \tSim: 0.51 \tPair: NO\n",
      "Line EN: 503 \tLine ZH: 495 \tSim: 0.5 \tPair: NO\n",
      "Line EN: 1527 \tLine ZH: 963 \tSim: 0.59 \tPair: NO\n",
      "Line EN: 311 \tLine ZH: 186 \tSim: 0.5 \tPair: NO\n",
      "Line EN: 519 \tLine ZH: 997 \tSim: 0.49 \tPair: NO\n",
      "Line EN: 361 \tLine ZH: 1120 \tSim: 0.54 \tPair: NO\n",
      "Line EN: 273 \tLine ZH: 1662 \tSim: 0.53 \tPair: NO\n",
      "Line EN: 624 \tLine ZH: 1826 \tSim: 0.54 \tPair: NO\n",
      "Line EN: 916 \tLine ZH: 1138 \tSim: 0.5 \tPair: NO\n",
      "Line EN: 1612 \tLine ZH: 1274 \tSim: 0.52 \tPair: NO\n",
      "Line EN: 712 \tLine ZH: 1277 \tSim: 0.5 \tPair: NO\n",
      "Line EN: 529 \tLine ZH: 18 \tSim: 0.52 \tPair: NO\n",
      "Line EN: 643 \tLine ZH: 604 \tSim: 0.52 \tPair: NO\n",
      "Line EN: 98 \tLine ZH: 1669 \tSim: 0.45 \tPair: NO\n",
      "Line EN: 727 \tLine ZH: 773 \tSim: 0.49 \tPair: NO\n",
      "Line EN: 434 \tLine ZH: 648 \tSim: 0.52 \tPair: NO\n",
      "Line EN: 423 \tLine ZH: 1614 \tSim: 0.52 \tPair: NO\n",
      "Line EN: 455 \tLine ZH: 1688 \tSim: 0.55 \tPair: NO\n",
      "Line EN: 1385 \tLine ZH: 1040 \tSim: 0.5 \tPair: NO\n",
      "Line EN: 922 \tLine ZH: 1720 \tSim: 0.48 \tPair: NO\n",
      "Line EN: 1712 \tLine ZH: 1236 \tSim: 0.53 \tPair: NO\n",
      "Line EN: 1545 \tLine ZH: 1459 \tSim: 0.61 \tPair: NO\n",
      "Line EN: 1105 \tLine ZH: 1107 \tSim: 0.51 \tPair: NO\n",
      "Line EN: 738 \tLine ZH: 1221 \tSim: 0.57 \tPair: NO\n",
      "Line EN: 1519 \tLine ZH: 1394 \tSim: 0.56 \tPair: NO\n",
      "Line EN: 1158 \tLine ZH: 1404 \tSim: 0.55 \tPair: NO\n",
      "Line EN: 1009 \tLine ZH: 1642 \tSim: 0.55 \tPair: NO\n",
      "Line EN: 923 \tLine ZH: 272 \tSim: 0.57 \tPair: NO\n",
      "Line EN: 1583 \tLine ZH: 939 \tSim: 0.51 \tPair: NO\n",
      "Line EN: 288 \tLine ZH: 188 \tSim: 0.58 \tPair: NO\n",
      "Line EN: 155 \tLine ZH: 1672 \tSim: 0.55 \tPair: NO\n",
      "Line EN: 116 \tLine ZH: 1799 \tSim: 0.55 \tPair: NO\n",
      "Line EN: 412 \tLine ZH: 328 \tSim: 0.51 \tPair: NO\n",
      "Line EN: 114 \tLine ZH: 454 \tSim: 0.54 \tPair: NO\n",
      "Line EN: 428 \tLine ZH: 106 \tSim: 0.52 \tPair: NO\n",
      "Line EN: 441 \tLine ZH: 1614 \tSim: 0.52 \tPair: NO\n",
      "Line EN: 682 \tLine ZH: 754 \tSim: 0.46 \tPair: NO\n",
      "Line EN: 491 \tLine ZH: 1463 \tSim: 0.54 \tPair: NO\n",
      "Line EN: 981 \tLine ZH: 671 \tSim: 0.56 \tPair: NO\n",
      "Line EN: 276 \tLine ZH: 858 \tSim: 0.57 \tPair: NO\n",
      "Line EN: 326 \tLine ZH: 124 \tSim: 0.47 \tPair: NO\n",
      "Line EN: 926 \tLine ZH: 733 \tSim: 0.65 \tPair: NO\n",
      "Line EN: 655 \tLine ZH: 1577 \tSim: 0.51 \tPair: NO\n",
      "Line EN: 527 \tLine ZH: 1680 \tSim: 0.54 \tPair: NO\n",
      "Line EN: 1469 \tLine ZH: 702 \tSim: 0.5 \tPair: NO\n",
      "Line EN: 826 \tLine ZH: 380 \tSim: 0.47 \tPair: NO\n",
      "Line EN: 152 \tLine ZH: 599 \tSim: 0.52 \tPair: NO\n",
      "Line EN: 1560 \tLine ZH: 238 \tSim: 0.54 \tPair: NO\n"
     ]
    }
   ],
   "source": [
    "from random import randrange\n",
    "\n",
    "t = 50\n",
    "n = 0\n",
    "\n",
    "while t > n:\n",
    "    x = randrange(1853)\n",
    "    y = randrange(1853)\n",
    "    if x != y:\n",
    "        z = cosine_similarity( get_vector(new_df.iloc[x]['Sentence_en'], proc=False), get_vector(new_df.iloc[y]['Sentence_zh'],lang=\"zh\", proc=False) )\n",
    "        zz = 'YES' if z>0.7 else 'NO'\n",
    "    \n",
    "        print('Line EN:',x,'\\tLine ZH:',y,'\\tSim:',round(z,2), '\\tPair:', zz)\n",
    "    n+=1"
   ]
  },
  {
   "cell_type": "code",
   "execution_count": null,
   "metadata": {},
   "outputs": [],
   "source": [
    "## Not processing text is better as stopwords are kept => more information "
   ]
  }
 ],
 "metadata": {
  "kernelspec": {
   "display_name": "Python 3",
   "language": "python",
   "name": "python3"
  },
  "language_info": {
   "codemirror_mode": {
    "name": "ipython",
    "version": 3
   },
   "file_extension": ".py",
   "mimetype": "text/x-python",
   "name": "python",
   "nbconvert_exporter": "python",
   "pygments_lexer": "ipython3",
   "version": "3.7.6"
  },
  "notify_time": "5"
 },
 "nbformat": 4,
 "nbformat_minor": 4
}
